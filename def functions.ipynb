{
 "cells": [
  {
   "cell_type": "code",
   "execution_count": 1,
   "id": "32bb2c6a",
   "metadata": {},
   "outputs": [],
   "source": [
    "def simple():\n",
    "    print(\"Hello World\")"
   ]
  },
  {
   "cell_type": "code",
   "execution_count": 2,
   "id": "d2e3157b",
   "metadata": {},
   "outputs": [
    {
     "name": "stdout",
     "output_type": "stream",
     "text": [
      "Hello World\n"
     ]
    }
   ],
   "source": [
    "simple()"
   ]
  },
  {
   "cell_type": "code",
   "execution_count": 3,
   "id": "dcd92f59",
   "metadata": {},
   "outputs": [],
   "source": [
    "def plus_ten(a):\n",
    "    return a + 10"
   ]
  },
  {
   "cell_type": "code",
   "execution_count": 4,
   "id": "c40fc49c",
   "metadata": {},
   "outputs": [
    {
     "data": {
      "text/plain": [
       "15"
      ]
     },
     "execution_count": 4,
     "metadata": {},
     "output_type": "execute_result"
    }
   ],
   "source": [
    "plus_ten(5)"
   ]
  },
  {
   "cell_type": "code",
   "execution_count": 7,
   "id": "cc75eaeb",
   "metadata": {},
   "outputs": [],
   "source": [
    "def plus_ten(a):\n",
    "    result = a + 10\n",
    "    print(\"Hello world\")\n",
    "    return result"
   ]
  },
  {
   "cell_type": "code",
   "execution_count": 8,
   "id": "7dca0f5b",
   "metadata": {},
   "outputs": [
    {
     "name": "stdout",
     "output_type": "stream",
     "text": [
      "Hello world\n"
     ]
    },
    {
     "data": {
      "text/plain": [
       "17"
      ]
     },
     "execution_count": 8,
     "metadata": {},
     "output_type": "execute_result"
    }
   ],
   "source": [
    "plus_ten(7)"
   ]
  },
  {
   "cell_type": "code",
   "execution_count": 9,
   "id": "91d06041",
   "metadata": {},
   "outputs": [],
   "source": [
    "\n",
    "\n",
    "## functions within a function\n",
    "\n"
   ]
  },
  {
   "cell_type": "code",
   "execution_count": 10,
   "id": "64ccb00d",
   "metadata": {},
   "outputs": [],
   "source": [
    "def wage(w_hrs):\n",
    "    return w_hrs * 25\n",
    "def with_bonus(w_hrs):\n",
    "    return wage(w_hrs) + 50"
   ]
  },
  {
   "cell_type": "code",
   "execution_count": 12,
   "id": "ec71e7a5",
   "metadata": {},
   "outputs": [
    {
     "data": {
      "text/plain": [
       "200"
      ]
     },
     "execution_count": 12,
     "metadata": {},
     "output_type": "execute_result"
    }
   ],
   "source": [
    "wage(8)"
   ]
  },
  {
   "cell_type": "code",
   "execution_count": 15,
   "id": "457d8f6e",
   "metadata": {},
   "outputs": [],
   "source": [
    "def johny(saving):\n",
    "    if saving >= 100:\n",
    "        return saving + 10\n",
    "    else:\n",
    "        return saving"
   ]
  },
  {
   "cell_type": "code",
   "execution_count": 16,
   "id": "9d859b59",
   "metadata": {},
   "outputs": [
    {
     "data": {
      "text/plain": [
       "110"
      ]
     },
     "execution_count": 16,
     "metadata": {},
     "output_type": "execute_result"
    }
   ],
   "source": [
    "johny(100)"
   ]
  },
  {
   "cell_type": "code",
   "execution_count": 17,
   "id": "61f476a9",
   "metadata": {},
   "outputs": [
    {
     "data": {
      "text/plain": [
       "99"
      ]
     },
     "execution_count": 17,
     "metadata": {},
     "output_type": "execute_result"
    }
   ],
   "source": [
    "johny(99)"
   ]
  },
  {
   "cell_type": "code",
   "execution_count": 18,
   "id": "f4495965",
   "metadata": {},
   "outputs": [
    {
     "data": {
      "text/plain": [
       "210"
      ]
     },
     "execution_count": 18,
     "metadata": {},
     "output_type": "execute_result"
    }
   ],
   "source": [
    "johny(200)"
   ]
  },
  {
   "cell_type": "code",
   "execution_count": null,
   "id": "9e45ddbc",
   "metadata": {},
   "outputs": [],
   "source": []
  }
 ],
 "metadata": {
  "kernelspec": {
   "display_name": "Python 3 (ipykernel)",
   "language": "python",
   "name": "python3"
  },
  "language_info": {
   "codemirror_mode": {
    "name": "ipython",
    "version": 3
   },
   "file_extension": ".py",
   "mimetype": "text/x-python",
   "name": "python",
   "nbconvert_exporter": "python",
   "pygments_lexer": "ipython3",
   "version": "3.9.13"
  }
 },
 "nbformat": 4,
 "nbformat_minor": 5
}
