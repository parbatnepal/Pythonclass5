{
 "cells": [
  {
   "cell_type": "code",
   "execution_count": 1,
   "id": "e79b5636",
   "metadata": {},
   "outputs": [],
   "source": [
    "#for loop\n",
    "#while loop"
   ]
  },
  {
   "cell_type": "code",
   "execution_count": 4,
   "id": "376607d3",
   "metadata": {},
   "outputs": [
    {
     "name": "stdout",
     "output_type": "stream",
     "text": [
      "1\n",
      "2\n",
      "3\n",
      "4\n",
      "5\n",
      "6\n",
      "7\n",
      "8\n",
      "9\n"
     ]
    }
   ],
   "source": [
    "for i in range(1,10):\n",
    "    print(i)"
   ]
  },
  {
   "cell_type": "code",
   "execution_count": 6,
   "id": "5959fb7b",
   "metadata": {},
   "outputs": [
    {
     "name": "stdout",
     "output_type": "stream",
     "text": [
      "1\n",
      "3\n",
      "5\n",
      "7\n",
      "9\n"
     ]
    }
   ],
   "source": [
    "for i in range(1,10, 2): #jump 2 times\n",
    "    print(i)"
   ]
  },
  {
   "cell_type": "code",
   "execution_count": 8,
   "id": "3543d140",
   "metadata": {},
   "outputs": [
    {
     "name": "stdout",
     "output_type": "stream",
     "text": [
      "Hello world\n",
      "Hello world\n",
      "Hello world\n",
      "Hello world\n"
     ]
    }
   ],
   "source": [
    "for i in range(1,12,3):\n",
    "    print(\"Hello world\")"
   ]
  },
  {
   "cell_type": "code",
   "execution_count": 11,
   "id": "d55c0ec3",
   "metadata": {},
   "outputs": [
    {
     "name": "stdout",
     "output_type": "stream",
     "text": [
      "12\n",
      "9\n",
      "6\n",
      "3\n"
     ]
    }
   ],
   "source": [
    "for i in range(12,1, -3):\n",
    "    print(i)"
   ]
  },
  {
   "cell_type": "code",
   "execution_count": 20,
   "id": "e32c05b9",
   "metadata": {},
   "outputs": [
    {
     "name": "stdout",
     "output_type": "stream",
     "text": [
      "enter the number you want to create table99\n",
      "99 * 1 = 99\n",
      "99 * 2 = 198\n",
      "99 * 3 = 297\n",
      "99 * 4 = 396\n",
      "99 * 5 = 495\n",
      "99 * 6 = 594\n",
      "99 * 7 = 693\n",
      "99 * 8 = 792\n",
      "99 * 9 = 891\n",
      "99 * 10 = 990\n"
     ]
    }
   ],
   "source": [
    "n = int(input(\"enter the number you want to create table\"))\n",
    "for i in range(1,11):\n",
    "    print(f\"{n} * \" + str(i) + \" = \" + str(n *i))"
   ]
  },
  {
   "cell_type": "code",
   "execution_count": null,
   "id": "a52083eb",
   "metadata": {},
   "outputs": [],
   "source": []
  },
  {
   "cell_type": "code",
   "execution_count": 6,
   "id": "0465edf7",
   "metadata": {},
   "outputs": [
    {
     "name": "stdout",
     "output_type": "stream",
     "text": [
      "Enter n = 2\n",
      "Enter name =parbat\n",
      "Enter price =500\n",
      "Enter quantity = 4\n",
      "Enter name =bikul\n",
      "Enter price =400\n",
      "Enter quantity = 3\n",
      " parbat50042000\n",
      "bikul40031200\n",
      "\n",
      "All total 3200\n"
     ]
    }
   ],
   "source": [
    "bill = \" \"\n",
    "grand_total = 0\n",
    "n = int(input(\"Enter n = \"))\n",
    "for i in range(n):\n",
    "    name = input(\"Enter name =\")\n",
    "    price = int(input(\"Enter price =\"))\n",
    "    quantity = int(input(\"Enter quantity = \"))\n",
    "    total = price * quantity\n",
    "    grand_total = grand_total + total\n",
    "    data = name + str(price) + str(quantity) + str(total) + \"\\n\"\n",
    "    bill = bill + data\n",
    "print(bill)\n",
    "print(\"All total\", grand_total)"
   ]
  },
  {
   "cell_type": "code",
   "execution_count": 20,
   "id": "0508aeb1",
   "metadata": {},
   "outputs": [
    {
     "name": "stdout",
     "output_type": "stream",
     "text": [
      "H.e.l.l.o.w.o.r.l.d.i.a.m.p.y.t.h.o.n."
     ]
    }
   ],
   "source": [
    "a= \"Hello world i am python\"\n",
    "for i in a:\n",
    "    if i != \" \":\n",
    "    \tprint(i, end = \".\")"
   ]
  },
  {
   "cell_type": "code",
   "execution_count": 33,
   "id": "630e2811",
   "metadata": {},
   "outputs": [
    {
     "name": "stdout",
     "output_type": "stream",
     "text": [
      "Hello World I Am Python"
     ]
    }
   ],
   "source": [
    "a = \"Hello_World_I_Am_Python\"\n",
    "for i in a:\n",
    "    if i != \"_\":\n",
    "        print(i, end = \"\")\n",
    "    elif i == \"_\":\n",
    "        i = \" \"\n",
    "        print(i, end = \"\")"
   ]
  },
  {
   "cell_type": "code",
   "execution_count": 2,
   "id": "60f3fb74",
   "metadata": {},
   "outputs": [
    {
     "name": "stdout",
     "output_type": "stream",
     "text": [
      "0 a is less than 5\n",
      "1 a is less than 5\n",
      "2 a is less than 5\n",
      "3 a is less than 5\n",
      "4 a is less than 5\n"
     ]
    }
   ],
   "source": [
    "a = 0\n",
    "while a < 5:\n",
    "    print(a,\"a is less than 5\")\n",
    "    a = a + 1"
   ]
  },
  {
   "cell_type": "code",
   "execution_count": 3,
   "id": "8a2a4101",
   "metadata": {},
   "outputs": [
    {
     "name": "stdout",
     "output_type": "stream",
     "text": [
      "0\n",
      "2\n",
      "4\n",
      "6\n",
      "8\n"
     ]
    }
   ],
   "source": [
    "for i in range(0,10,2):\n",
    "    print(i)"
   ]
  },
  {
   "cell_type": "code",
   "execution_count": 2,
   "id": "3d42a4be",
   "metadata": {},
   "outputs": [
    {
     "name": "stdout",
     "output_type": "stream",
     "text": [
      "Enter n= 99\n",
      "99 * 1  =  99\n",
      "99 * 2  =  198\n",
      "99 * 3  =  297\n",
      "99 * 4  =  396\n",
      "99 * 5  =  495\n",
      "99 * 6  =  594\n",
      "99 * 7  =  693\n",
      "99 * 8  =  792\n",
      "99 * 9  =  891\n",
      "99 * 10  =  990\n"
     ]
    }
   ],
   "source": [
    "i = 1\n",
    "n =int(input(\"Enter n= \"))\n",
    "while i <= 10:\n",
    "    print(str(n), \"*\" , str(i) , \" = \" , i*n )\n",
    "    i = i + 1"
   ]
  },
  {
   "cell_type": "code",
   "execution_count": 2,
   "id": "7ec8f054",
   "metadata": {},
   "outputs": [
    {
     "name": "stdout",
     "output_type": "stream",
     "text": [
      "Enter n = 4\n",
      "Enter the value of x = 5\n",
      "5\n",
      "Enter the value of x = 5\n",
      "10\n",
      "Enter the value of x = 5\n",
      "15\n",
      "Enter the value of x = 5\n",
      "20\n"
     ]
    }
   ],
   "source": [
    "i = 0\n",
    "s = 0\n",
    "n = int(input(\"Enter n = \"))\n",
    "while i < n:\n",
    "        x = int(input(\"Enter the value of x = \"))\n",
    "        s = s + x\n",
    "        print(s)\n",
    "        i = i + 1"
   ]
  },
  {
   "cell_type": "markdown",
   "id": "00ed425e",
   "metadata": {},
   "source": [
    "#program to check prime or composite number\n",
    "a = int(input()"
   ]
  },
  {
   "cell_type": "code",
   "execution_count": 47,
   "id": "dc11884a",
   "metadata": {},
   "outputs": [
    {
     "name": "stdout",
     "output_type": "stream",
     "text": [
      "Enter a number2\n",
      "The number is a prime\n"
     ]
    }
   ],
   "source": [
    "#program to check prime or composite number\n",
    "a = 0\n",
    "a = int(input(\"Enter a number\"))\n",
    "l = a % 2\n",
    "while l == 0:\n",
    "    if a == 2:\n",
    "    \tprint(\"The number is a prime\")\n",
    "    break\n",
    "    print(\"The number is a composite number\")\n",
    "    break\n",
    "else:\n",
    "\tprint(\"The number is a prime number\")\n"
   ]
  },
  {
   "cell_type": "code",
   "execution_count": null,
   "id": "25b16f45",
   "metadata": {},
   "outputs": [],
   "source": [
    "\n",
    "\n",
    "\n"
   ]
  },
  {
   "cell_type": "code",
   "execution_count": 20,
   "id": "fcaddb57",
   "metadata": {},
   "outputs": [
    {
     "name": "stdout",
     "output_type": "stream",
     "text": [
      " I am python"
     ]
    }
   ],
   "source": [
    "a = \" I am python. I am best\"\n",
    "for i in a:\n",
    "    if i == '.':\n",
    "    \tbreak\n",
    "    print(i, end=\"\")"
   ]
  },
  {
   "cell_type": "code",
   "execution_count": 11,
   "id": "3e8eb3c2",
   "metadata": {},
   "outputs": [
    {
     "name": "stdout",
     "output_type": "stream",
     "text": [
      "Hello, i am python"
     ]
    }
   ],
   "source": [
    "a= \"Hello, i am python. I am best\"\n",
    "for i in a:\n",
    "    if i == '.':\n",
    "        break\n",
    "    print(i, end = \"\")"
   ]
  },
  {
   "cell_type": "code",
   "execution_count": 51,
   "id": "8688a57d",
   "metadata": {},
   "outputs": [
    {
     "name": "stdout",
     "output_type": "stream",
     "text": [
      "Hello, i am python"
     ]
    }
   ],
   "source": [
    "a= \"Hello, i am python. I am best\"\n",
    "for i in range(len(a)):\n",
    "    if (a[i]) == '.':\n",
    "        break\n",
    "    print(a[i], end ='')\n",
    "    "
   ]
  },
  {
   "cell_type": "code",
   "execution_count": null,
   "id": "7406f493",
   "metadata": {},
   "outputs": [],
   "source": []
  },
  {
   "cell_type": "code",
   "execution_count": null,
   "id": "484178de",
   "metadata": {},
   "outputs": [],
   "source": [
    "## pass doesn't do anything in a loop\n"
   ]
  }
 ],
 "metadata": {
  "kernelspec": {
   "display_name": "Python 3 (ipykernel)",
   "language": "python",
   "name": "python3"
  },
  "language_info": {
   "codemirror_mode": {
    "name": "ipython",
    "version": 3
   },
   "file_extension": ".py",
   "mimetype": "text/x-python",
   "name": "python",
   "nbconvert_exporter": "python",
   "pygments_lexer": "ipython3",
   "version": "3.9.13"
  }
 },
 "nbformat": 4,
 "nbformat_minor": 5
}
