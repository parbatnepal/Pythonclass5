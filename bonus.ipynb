{
 "cells": [
  {
   "cell_type": "code",
   "execution_count": 2,
   "id": "60f96f58",
   "metadata": {},
   "outputs": [
    {
     "name": "stdout",
     "output_type": "stream",
     "text": [
      "Enter name - parbat\n",
      "2023-06-07 17:23:03.736263\n",
      "2023-06-07 17:23:06.755660\n",
      "0:00:03.019397\n"
     ]
    }
   ],
   "source": [
    "import datetime as dt\n",
    "x = dt.datetime.now()\n",
    "name = input(\"Enter name - \")\n",
    "y = dt.datetime.now()\n",
    "print(x)\n",
    "print(y)\n",
    "print(y-x)"
   ]
  },
  {
   "cell_type": "code",
   "execution_count": 3,
   "id": "26b85426",
   "metadata": {},
   "outputs": [
    {
     "name": "stdout",
     "output_type": "stream",
     "text": [
      "2023\n",
      "6\n",
      "7\n"
     ]
    }
   ],
   "source": [
    "print(x.year)\n",
    "print(x.month)\n",
    "print(x.day)\n"
   ]
  },
  {
   "cell_type": "code",
   "execution_count": 4,
   "id": "31f4f064",
   "metadata": {},
   "outputs": [
    {
     "name": "stdout",
     "output_type": "stream",
     "text": [
      "Enter name = parbat\n"
     ]
    },
    {
     "data": {
      "text/plain": [
       "1686138186"
      ]
     },
     "execution_count": 4,
     "metadata": {},
     "output_type": "execute_result"
    }
   ],
   "source": [
    "import datetime\n",
    "x = datetime.datetime.now()\n",
    "s1 = x.strftime(\"%S\")\n",
    "name = input(\"Enter name = \")\n",
    "\n",
    "y = datetime.datetime.now()\n",
    "\n",
    "s2 = y.strftime(\"%s\")\n",
    "int(s2)-int(s1)"
   ]
  },
  {
   "cell_type": "code",
   "execution_count": 6,
   "id": "37e0231f",
   "metadata": {},
   "outputs": [
    {
     "name": "stdout",
     "output_type": "stream",
     "text": [
      "Enter the values = 1\n",
      "Enter the values = 2\n",
      "Enter the values = 3\n",
      "Enter the values = 4\n",
      "Enter the values = 5\n",
      "Enter the values = 6\n",
      "Enter the values = 7\n",
      "Enter the values = 8\n",
      "Enter the values = \n",
      "Enter the values = 10\n"
     ]
    },
    {
     "data": {
      "text/plain": [
       "['1', '2', '3', '4', '5', '6', '7', '8', '', '10']"
      ]
     },
     "execution_count": 6,
     "metadata": {},
     "output_type": "execute_result"
    }
   ],
   "source": [
    "## list comprehension\n",
    "\n",
    "l = [input(\"Enter the values = \") for i in range(0,10)]\n",
    "l"
   ]
  },
  {
   "cell_type": "markdown",
   "id": "fa281711",
   "metadata": {},
   "source": [
    "l = [input(\"Enter name = \"):input(\"ENter address = \") for i in range(2)]\n"
   ]
  },
  {
   "cell_type": "code",
   "execution_count": 12,
   "id": "1229b932",
   "metadata": {},
   "outputs": [
    {
     "name": "stdout",
     "output_type": "stream",
     "text": [
      "Enter name = parbat\n",
      "ENter address = itahari\n",
      "Enter name = kailash\n",
      "ENter address = ktm\n"
     ]
    }
   ],
   "source": [
    "l = {input(\"Enter name = \") : input(\"ENter address = \") for i in range(2)}"
   ]
  },
  {
   "cell_type": "code",
   "execution_count": 13,
   "id": "bbffc0a8",
   "metadata": {},
   "outputs": [
    {
     "data": {
      "text/plain": [
       "{'parbat': 'itahari', 'kailash': 'ktm'}"
      ]
     },
     "execution_count": 13,
     "metadata": {},
     "output_type": "execute_result"
    }
   ],
   "source": [
    "l\n"
   ]
  },
  {
   "cell_type": "code",
   "execution_count": 14,
   "id": "c8128d7a",
   "metadata": {},
   "outputs": [
    {
     "data": {
      "text/plain": [
       "['first_class.ipynb',\n",
       " 'function.ipynb',\n",
       " '.DS_Store',\n",
       " 'broadway pandas',\n",
       " 'Sets.ipynb',\n",
       " 'python project scraping',\n",
       " 'bill.csv',\n",
       " 'bonus.ipynb',\n",
       " 'lists.ipynb',\n",
       " 'Dictionary.ipynb',\n",
       " 'Object Oriented Programming',\n",
       " 'tuples.ipynb',\n",
       " 'If else statement.ipynb',\n",
       " 'Numpy',\n",
       " 'def functions.ipynb',\n",
       " 'loop.ipynb',\n",
       " 'Mysql',\n",
       " 'bill.txt',\n",
       " 'billing.txt',\n",
       " 'file handling.ipynb',\n",
       " '.ipynb_checkpoints',\n",
       " 'strings.ipynb',\n",
       " 'pythonclass_5.ipynb',\n",
       " '.git',\n",
       " 'classworks.ipynb',\n",
       " 'data.txt',\n",
       " 'Pandas']"
      ]
     },
     "execution_count": 14,
     "metadata": {},
     "output_type": "execute_result"
    }
   ],
   "source": [
    "import os\n",
    "os.listdir()"
   ]
  },
  {
   "cell_type": "code",
   "execution_count": 15,
   "id": "8e265622",
   "metadata": {},
   "outputs": [],
   "source": [
    "os.mkdir('new_folder')"
   ]
  },
  {
   "cell_type": "code",
   "execution_count": 16,
   "id": "0291244e",
   "metadata": {},
   "outputs": [
    {
     "name": "stdout",
     "output_type": "stream",
     "text": [
      "/Users/a1/Broadway infosys Python/new_folder\n"
     ]
    }
   ],
   "source": [
    "cd new_folder"
   ]
  },
  {
   "cell_type": "code",
   "execution_count": 17,
   "id": "8ae03ff0",
   "metadata": {},
   "outputs": [
    {
     "data": {
      "text/plain": [
       "'/Users/a1/Broadway infosys Python/new_folder'"
      ]
     },
     "execution_count": 17,
     "metadata": {},
     "output_type": "execute_result"
    }
   ],
   "source": [
    "pwd"
   ]
  },
  {
   "cell_type": "code",
   "execution_count": 18,
   "id": "795283be",
   "metadata": {},
   "outputs": [
    {
     "ename": "FileNotFoundError",
     "evalue": "[Errno 2] No such file or directory: 'new_folder'",
     "output_type": "error",
     "traceback": [
      "\u001b[0;31m---------------------------------------------------------------------------\u001b[0m",
      "\u001b[0;31mFileNotFoundError\u001b[0m                         Traceback (most recent call last)",
      "\u001b[0;32m/var/folders/d1/y8wf384s4170y7d8hmdt13gr0000gn/T/ipykernel_68099/3689318226.py\u001b[0m in \u001b[0;36m<module>\u001b[0;34m\u001b[0m\n\u001b[0;32m----> 1\u001b[0;31m \u001b[0mos\u001b[0m\u001b[0;34m.\u001b[0m\u001b[0mrmdir\u001b[0m\u001b[0;34m(\u001b[0m\u001b[0;34m'new_folder'\u001b[0m\u001b[0;34m)\u001b[0m\u001b[0;34m\u001b[0m\u001b[0;34m\u001b[0m\u001b[0m\n\u001b[0m",
      "\u001b[0;31mFileNotFoundError\u001b[0m: [Errno 2] No such file or directory: 'new_folder'"
     ]
    }
   ],
   "source": [
    "os.rmdir('new_folder')"
   ]
  },
  {
   "cell_type": "code",
   "execution_count": 19,
   "id": "d6a783fd",
   "metadata": {},
   "outputs": [
    {
     "name": "stdout",
     "output_type": "stream",
     "text": [
      "/Users/a1/Broadway infosys Python\n"
     ]
    }
   ],
   "source": [
    "cd .."
   ]
  },
  {
   "cell_type": "code",
   "execution_count": 23,
   "id": "d81b372c",
   "metadata": {},
   "outputs": [],
   "source": [
    "os.rename('bill.txt','Bill.txt')"
   ]
  },
  {
   "cell_type": "code",
   "execution_count": 25,
   "id": "99064df7",
   "metadata": {},
   "outputs": [
    {
     "data": {
      "text/html": [
       "<div>\n",
       "<style scoped>\n",
       "    .dataframe tbody tr th:only-of-type {\n",
       "        vertical-align: middle;\n",
       "    }\n",
       "\n",
       "    .dataframe tbody tr th {\n",
       "        vertical-align: top;\n",
       "    }\n",
       "\n",
       "    .dataframe thead th {\n",
       "        text-align: right;\n",
       "    }\n",
       "</style>\n",
       "<table border=\"1\" class=\"dataframe\">\n",
       "  <thead>\n",
       "    <tr style=\"text-align: right;\">\n",
       "      <th></th>\n",
       "      <th>name</th>\n",
       "      <th>age</th>\n",
       "      <th>add</th>\n",
       "    </tr>\n",
       "  </thead>\n",
       "  <tbody>\n",
       "    <tr>\n",
       "      <th>0</th>\n",
       "      <td>ram</td>\n",
       "      <td>45</td>\n",
       "      <td>Kathmandu</td>\n",
       "    </tr>\n",
       "    <tr>\n",
       "      <th>1</th>\n",
       "      <td>shyam</td>\n",
       "      <td>67</td>\n",
       "      <td>Bhaktapur</td>\n",
       "    </tr>\n",
       "    <tr>\n",
       "      <th>2</th>\n",
       "      <td>Hari</td>\n",
       "      <td>89</td>\n",
       "      <td>lalitpur</td>\n",
       "    </tr>\n",
       "  </tbody>\n",
       "</table>\n",
       "</div>"
      ],
      "text/plain": [
       "    name  age        add\n",
       "0    ram   45  Kathmandu\n",
       "1  shyam   67  Bhaktapur\n",
       "2   Hari   89   lalitpur"
      ]
     },
     "execution_count": 25,
     "metadata": {},
     "output_type": "execute_result"
    }
   ],
   "source": [
    "import pandas as pd\n",
    "data ={'name':['ram', 'shyam', 'Hari'],\n",
    "       'age' : [45,67,89],\n",
    "       'add' : ['Kathmandu', 'Bhaktapur', 'lalitpur' ]\n",
    "}\n",
    "df = pd.DataFrame(data)\n",
    "df.to_json('info.json')\n",
    "df"
   ]
  },
  {
   "cell_type": "code",
   "execution_count": null,
   "id": "67ed4139",
   "metadata": {},
   "outputs": [],
   "source": []
  }
 ],
 "metadata": {
  "kernelspec": {
   "display_name": "Python 3 (ipykernel)",
   "language": "python",
   "name": "python3"
  },
  "language_info": {
   "codemirror_mode": {
    "name": "ipython",
    "version": 3
   },
   "file_extension": ".py",
   "mimetype": "text/x-python",
   "name": "python",
   "nbconvert_exporter": "python",
   "pygments_lexer": "ipython3",
   "version": "3.9.13"
  }
 },
 "nbformat": 4,
 "nbformat_minor": 5
}
