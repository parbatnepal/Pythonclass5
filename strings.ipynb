{
 "cells": [
  {
   "cell_type": "code",
   "execution_count": null,
   "id": "8ddef04e",
   "metadata": {},
   "outputs": [],
   "source": [
    "#string\n",
    "\n",
    "\n",
    "a = \"python\"\n",
    "l = len(a)\n",
    "\n",
    "for i in range(l):\n",
    "    print(a[i])"
   ]
  },
  {
   "cell_type": "code",
   "execution_count": null,
   "id": "e04a0010",
   "metadata": {},
   "outputs": [],
   "source": [
    "#using while\n",
    "\n",
    "a = \"python\"\n",
    "l = len(a)\n",
    "i = 0\n",
    "while i < l:\n",
    "    print(a[i], end = \"\")\n",
    "    i = i+1"
   ]
  },
  {
   "cell_type": "code",
   "execution_count": null,
   "id": "c14ca68a",
   "metadata": {},
   "outputs": [],
   "source": [
    "#control statements\n",
    "#break    breaks the entire loop\n",
    "#continue\n",
    "\n",
    "for i in range(1,10):\n",
    "    if i == 5:\n",
    "        continue ### skips the code below it in the loop\n",
    "    print(i)"
   ]
  },
  {
   "cell_type": "code",
   "execution_count": 1,
   "id": "2effc68a",
   "metadata": {},
   "outputs": [
    {
     "name": "stdout",
     "output_type": "stream",
     "text": [
      "Hello world\n",
      "Hello world\n",
      "Hello world\n",
      "\n"
     ]
    }
   ],
   "source": [
    "a = \"Hello world\"\n",
    "b = 'Hello world'\n",
    "c = '''Hello world'''\n",
    "a = \"Hello world\\n\"\n",
    "print(a*3)"
   ]
  },
  {
   "cell_type": "code",
   "execution_count": 2,
   "id": "44f08bba",
   "metadata": {},
   "outputs": [
    {
     "name": "stdout",
     "output_type": "stream",
     "text": [
      "l\n"
     ]
    }
   ],
   "source": [
    "print(a[2])"
   ]
  },
  {
   "cell_type": "code",
   "execution_count": 3,
   "id": "04645aa7",
   "metadata": {},
   "outputs": [
    {
     "name": "stdout",
     "output_type": "stream",
     "text": [
      "llo\n"
     ]
    }
   ],
   "source": [
    "print(a[2:5])"
   ]
  },
  {
   "cell_type": "code",
   "execution_count": 5,
   "id": "8cf2144c",
   "metadata": {},
   "outputs": [
    {
     "name": "stdout",
     "output_type": "stream",
     "text": [
      "HELLO WORLD\n",
      "\n"
     ]
    }
   ],
   "source": [
    "print(a.upper())"
   ]
  },
  {
   "cell_type": "code",
   "execution_count": 6,
   "id": "e1d1c05b",
   "metadata": {},
   "outputs": [
    {
     "name": "stdout",
     "output_type": "stream",
     "text": [
      "Hello world\n"
     ]
    }
   ],
   "source": [
    "print(a.strip())"
   ]
  },
  {
   "cell_type": "code",
   "execution_count": 7,
   "id": "9ba699fd",
   "metadata": {},
   "outputs": [],
   "source": [
    "a= \" Hello world \""
   ]
  },
  {
   "cell_type": "code",
   "execution_count": 8,
   "id": "64f767f5",
   "metadata": {},
   "outputs": [
    {
     "name": "stdout",
     "output_type": "stream",
     "text": [
      "Hello world\n"
     ]
    }
   ],
   "source": [
    "print(a.strip())"
   ]
  },
  {
   "cell_type": "code",
   "execution_count": 10,
   "id": "d4244e37",
   "metadata": {},
   "outputs": [
    {
     "name": "stdout",
     "output_type": "stream",
     "text": [
      " Hello\n"
     ]
    }
   ],
   "source": [
    "b = a[0:6]\n",
    "print(b)"
   ]
  },
  {
   "cell_type": "code",
   "execution_count": 22,
   "id": "059b1d73",
   "metadata": {},
   "outputs": [
    {
     "name": "stdout",
     "output_type": "stream",
     "text": [
      "nohtyp\n"
     ]
    }
   ],
   "source": [
    "a = \"python\"\n",
    "print(a[-1:-7:-1])"
   ]
  },
  {
   "cell_type": "code",
   "execution_count": 24,
   "id": "970718d4",
   "metadata": {},
   "outputs": [
    {
     "name": "stdout",
     "output_type": "stream",
     "text": [
      "nohtyp\n"
     ]
    }
   ],
   "source": [
    "a=\"python\"\n",
    "print(a[::-1])"
   ]
  },
  {
   "cell_type": "code",
   "execution_count": 27,
   "id": "d0b80e67",
   "metadata": {},
   "outputs": [
    {
     "name": "stdout",
     "output_type": "stream",
     "text": [
      "The no is palindrome\n"
     ]
    }
   ],
   "source": [
    "a = \"101\"\n",
    "if a[::-1] == a:\n",
    "    print(\"The no is palindrome\")\n",
    "else:\n",
    "    print(\"The no is not palindrome\")"
   ]
  },
  {
   "cell_type": "code",
   "execution_count": 28,
   "id": "78bab611",
   "metadata": {},
   "outputs": [
    {
     "name": "stdout",
     "output_type": "stream",
     "text": [
      "Enter name = parbat\n",
      "Enter your age = 20\n",
      "Enter add = itahari\n",
      "Hi, my name is parbat, my age is 20 and my address is itahari\n"
     ]
    }
   ],
   "source": [
    "##string formatting\n",
    "name = input(\"Enter name = \")\n",
    "age = int(input(\"Enter your age = \"))\n",
    "add = input(\"Enter add = \")\n",
    "\n",
    "print(f\"Hi, my name is {name}, my age is {age} and my address is {add}\")"
   ]
  },
  {
   "cell_type": "code",
   "execution_count": 29,
   "id": "22feb094",
   "metadata": {},
   "outputs": [
    {
     "name": "stdout",
     "output_type": "stream",
     "text": [
      "Enter value for searchRam\n",
      "There is  Ram\n",
      "2\n"
     ]
    }
   ],
   "source": [
    "a = \"Ram Shyam Hari Sita Nita Ramesh\".lower()\n",
    "search = input('Enter value for search').lower()\n",
    "if search in a:\n",
    "    print(\"There is \", search)\n",
    "    print(a.count(search))\n",
    "else:\n",
    "    print(\"There is not \", search)"
   ]
  },
  {
   "cell_type": "code",
   "execution_count": 31,
   "id": "78751047",
   "metadata": {},
   "outputs": [
    {
     "name": "stdout",
     "output_type": "stream",
     "text": [
      "ram Shyam Hari Sita Nita ramesh\n"
     ]
    }
   ],
   "source": [
    "print(a.replace(\"Ram\", \"ram\"))"
   ]
  },
  {
   "cell_type": "code",
   "execution_count": null,
   "id": "43a4eac7",
   "metadata": {},
   "outputs": [],
   "source": []
  }
 ],
 "metadata": {
  "kernelspec": {
   "display_name": "Python 3 (ipykernel)",
   "language": "python",
   "name": "python3"
  },
  "language_info": {
   "codemirror_mode": {
    "name": "ipython",
    "version": 3
   },
   "file_extension": ".py",
   "mimetype": "text/x-python",
   "name": "python",
   "nbconvert_exporter": "python",
   "pygments_lexer": "ipython3",
   "version": "3.9.13"
  }
 },
 "nbformat": 4,
 "nbformat_minor": 5
}
