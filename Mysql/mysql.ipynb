{
 "cells": [
  {
   "cell_type": "code",
   "execution_count": 7,
   "id": "45f9008d",
   "metadata": {},
   "outputs": [],
   "source": [
    "import mysql.connector\n",
    "\n",
    "# Connect to the MySQL database\n",
    "cnx = mysql.connector.connect(\n",
    "    host=\"localhost\",\n",
    "    user=\"root\",\n",
    "    password=\"\",\n",
    "    database=\"python-5-pm\"\n",
    ")"
   ]
  },
  {
   "cell_type": "code",
   "execution_count": 8,
   "id": "78548558",
   "metadata": {},
   "outputs": [
    {
     "name": "stdout",
     "output_type": "stream",
     "text": [
      "Enter name = parbat\n",
      "Enter physics marks = 80\n",
      "Enter chemistry marks = 90\n",
      "Enter math marks = 70\n",
      "Enter english marks90\n",
      "Enter nepali marks60\n",
      "[(1, 80, 90, 100, 70, 80), (2, 70, 80, 90, 80, 90), (3, 80, 90, 70, 90, 60)]\n"
     ]
    }
   ],
   "source": [
    "# Create a cursor object to interact with the database\n",
    "cursor = cnx.cursor()\n",
    "    \n",
    "## Insert\n",
    "\n",
    "name = input(\"Enter name = \")\n",
    "physics = int(input(\"Enter physics marks = \"))\n",
    "chemistry = int(input(\"Enter chemistry marks = \"))\n",
    "math = int(input(\"Enter math marks = \"))\n",
    "english = int(input(\"Enter english marks\"))\n",
    "nepali = int(input(\"Enter nepali marks\"))\n",
    "\n",
    "total = physics + chemistry + math + english + nepali\n",
    "per = total/5\n",
    "\n",
    "if per >= 80:\n",
    "    grade = \"A\"\n",
    "elif per >=60:\n",
    "    grade = \"B\"\n",
    "elif per >=45:\n",
    "    grade = \"C\"\n",
    "else:\n",
    "    grade = \"F\"\n",
    "# Inserting values into a table\n",
    "\n",
    "sql = f'''INSERT INTO Students(physics, chemistry, math, english, nepali)\n",
    "Values({physics}, {chemistry}, {math}, {english},{nepali})'''\n",
    "cursor.execute(sql)\n",
    "\n",
    "# Selecting values from a table\n",
    "selectall = \"SELECT * from students\"\n",
    "#condition_value = \"some_value\"\n",
    "\n",
    "cursor.execute(selectall)\n",
    "\n",
    "# Fetch all the selected rows\n",
    "rows = cursor.fetchall()\n",
    "print(rows)\n",
    "#insert_query = \"INSERT INTO your_table (column1, column2) VALUES (%s, %s)\"\n",
    "#insert_values = (\"value1\", \"value2\")\n",
    "\n",
    "#cursor.execute(insert_query, insert_values)\n",
    "\n",
    "# Commit the changes to the database\n",
    "cnx.commit()\n",
    "\n",
    "# Close the cursor and the connection\n",
    "cursor.close()\n",
    "cnx.close()\n"
   ]
  },
  {
   "cell_type": "code",
   "execution_count": null,
   "id": "3ef1e2a3",
   "metadata": {},
   "outputs": [],
   "source": []
  }
 ],
 "metadata": {
  "kernelspec": {
   "display_name": "Python 3 (ipykernel)",
   "language": "python",
   "name": "python3"
  },
  "language_info": {
   "codemirror_mode": {
    "name": "ipython",
    "version": 3
   },
   "file_extension": ".py",
   "mimetype": "text/x-python",
   "name": "python",
   "nbconvert_exporter": "python",
   "pygments_lexer": "ipython3",
   "version": "3.9.13"
  }
 },
 "nbformat": 4,
 "nbformat_minor": 5
}
