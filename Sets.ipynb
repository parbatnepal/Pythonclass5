{
 "cells": [
  {
   "cell_type": "code",
   "execution_count": null,
   "id": "a08f87fd",
   "metadata": {},
   "outputs": [],
   "source": [
    "# Set\n",
    "# No indexing\n",
    "# unordered\n",
    "# Multiple but no duplicate\n",
    "# Mutable"
   ]
  },
  {
   "cell_type": "code",
   "execution_count": null,
   "id": "9949a6f4",
   "metadata": {},
   "outputs": [],
   "source": [
    "S = set()   # Defining empty set"
   ]
  },
  {
   "cell_type": "code",
   "execution_count": null,
   "id": "fb7b6a51",
   "metadata": {},
   "outputs": [],
   "source": [
    "s = {\"Apple\", \"Fish\", \"Cat\", \"Ball\"}"
   ]
  },
  {
   "cell_type": "code",
   "execution_count": null,
   "id": "cda4ec74",
   "metadata": {},
   "outputs": [],
   "source": [
    "s"
   ]
  },
  {
   "cell_type": "code",
   "execution_count": null,
   "id": "e921cb88",
   "metadata": {},
   "outputs": [],
   "source": [
    "print(s)"
   ]
  },
  {
   "cell_type": "code",
   "execution_count": null,
   "id": "b95de0eb",
   "metadata": {},
   "outputs": [],
   "source": [
    "s.add(\"Elephant\")"
   ]
  },
  {
   "cell_type": "code",
   "execution_count": null,
   "id": "62c8cbcd",
   "metadata": {},
   "outputs": [],
   "source": [
    "r = {\"goat\", \"Horse\"}"
   ]
  },
  {
   "cell_type": "code",
   "execution_count": null,
   "id": "56c9fc99",
   "metadata": {},
   "outputs": [],
   "source": [
    "s.update(r)"
   ]
  },
  {
   "cell_type": "code",
   "execution_count": null,
   "id": "96790c1c",
   "metadata": {},
   "outputs": [],
   "source": [
    "s"
   ]
  },
  {
   "cell_type": "code",
   "execution_count": 3,
   "id": "e386a0ea",
   "metadata": {
    "scrolled": true
   },
   "outputs": [
    {
     "name": "stdout",
     "output_type": "stream",
     "text": [
      "Enter the no of values to add = 4\n",
      "Enter the value = parbat\n",
      "Enter the value = nepal\n",
      "Enter the value = kailash\n",
      "Enter the value = Nepal\n",
      "{'nepal', 'parbat', 'Nepal', 'kailash'}\n"
     ]
    }
   ],
   "source": [
    "send = set()\n",
    "n = int(input(\"Enter the no of values to add = \"))\n",
    "for i in range(n):\n",
    "    value = input(\"Enter the value = \")\n",
    "    send.add(value)\n",
    "print(send)"
   ]
  },
  {
   "cell_type": "code",
   "execution_count": 6,
   "id": "3dee9e7f",
   "metadata": {},
   "outputs": [
    {
     "data": {
      "text/plain": [
       "{'Apple', 'Ball', 'Cat', 'Elephant', 'Fish', 'Horse', 'goat'}"
      ]
     },
     "execution_count": 6,
     "metadata": {},
     "output_type": "execute_result"
    }
   ],
   "source": [
    "# in {} no concat no multiplication\n",
    "s = {\"Apple\", \"Fish\", \"Cat\", \"Ball\"}\n",
    "s.add(\"Elephant\")\n",
    "r = {\"goat\", \"Horse\"}\n",
    "s.update(r)\n",
    "s"
   ]
  },
  {
   "cell_type": "code",
   "execution_count": 7,
   "id": "53459caa",
   "metadata": {},
   "outputs": [],
   "source": [
    "# Union()\n",
    "# Intersection()\n",
    "# Difference() A - B"
   ]
  },
  {
   "cell_type": "markdown",
   "id": "b3628c1b",
   "metadata": {},
   "source": [
    "a = {1,2,3,4,5}\n",
    "b = {3,4,5,6,7}\n",
    "union(a,b)"
   ]
  },
  {
   "cell_type": "code",
   "execution_count": 9,
   "id": "b800d219",
   "metadata": {},
   "outputs": [],
   "source": [
    "a = {1,2,3,4,5}\n",
    "b = {3,4,5,6,7} "
   ]
  },
  {
   "cell_type": "code",
   "execution_count": 10,
   "id": "daf423db",
   "metadata": {},
   "outputs": [],
   "source": [
    "c = a.union(b)"
   ]
  },
  {
   "cell_type": "code",
   "execution_count": 11,
   "id": "0d1ca252",
   "metadata": {},
   "outputs": [],
   "source": [
    "d = a.intersection(b)"
   ]
  },
  {
   "cell_type": "code",
   "execution_count": 15,
   "id": "41d17471",
   "metadata": {},
   "outputs": [],
   "source": [
    "e = a.difference(b)\n",
    "e = a - b  # difference and minus both are same"
   ]
  },
  {
   "cell_type": "code",
   "execution_count": 16,
   "id": "872a765d",
   "metadata": {},
   "outputs": [
    {
     "name": "stdout",
     "output_type": "stream",
     "text": [
      "{1, 2, 3, 4, 5, 6, 7}\n",
      "{3, 4, 5}\n",
      "{1, 2}\n"
     ]
    }
   ],
   "source": [
    "print(c)\n",
    "print(d)\n",
    "print(e)"
   ]
  },
  {
   "cell_type": "code",
   "execution_count": null,
   "id": "bce6c1c1",
   "metadata": {},
   "outputs": [],
   "source": []
  }
 ],
 "metadata": {
  "kernelspec": {
   "display_name": "Python 3 (ipykernel)",
   "language": "python",
   "name": "python3"
  },
  "language_info": {
   "codemirror_mode": {
    "name": "ipython",
    "version": 3
   },
   "file_extension": ".py",
   "mimetype": "text/x-python",
   "name": "python",
   "nbconvert_exporter": "python",
   "pygments_lexer": "ipython3",
   "version": "3.9.13"
  }
 },
 "nbformat": 4,
 "nbformat_minor": 5
}
