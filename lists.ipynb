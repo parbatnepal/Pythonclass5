{
 "cells": [
  {
   "cell_type": "code",
   "execution_count": null,
   "id": "00d87a4e",
   "metadata": {},
   "outputs": [],
   "source": [
    "## python collections\n",
    "\n",
    "## list tuples dictionary sets\n",
    "\n",
    "\n"
   ]
  },
  {
   "cell_type": "code",
   "execution_count": 18,
   "id": "bb315e13",
   "metadata": {},
   "outputs": [
    {
     "name": "stdout",
     "output_type": "stream",
     "text": [
      "2\n",
      "Dog\n",
      "[1, 3, 5]\n"
     ]
    }
   ],
   "source": [
    "# List\n",
    "# Indexable\n",
    "# accepts Multiple and duplicate\n",
    "# ordered\n",
    "# mutable - value is changable without overwriting\n",
    "\n",
    "a = [1,2,3,4,5,6]\n",
    "b = [\"Apple\", \"Ball\", \"cat\", \"Dog\", \"Fish\"]\n",
    "print(a[1])\n",
    "print(b[3])\n",
    "print(a[0:5:2])"
   ]
  },
  {
   "cell_type": "code",
   "execution_count": null,
   "id": "1d36c41b",
   "metadata": {},
   "outputs": [],
   "source": [
    "b = [\"Apple\", \"Ball\", \"cat\", \"Dog\", \"Fish\"]\n",
    "print(b*2)"
   ]
  },
  {
   "cell_type": "code",
   "execution_count": null,
   "id": "bf44ecf0",
   "metadata": {},
   "outputs": [],
   "source": [
    "b"
   ]
  },
  {
   "cell_type": "code",
   "execution_count": null,
   "id": "895aec9b",
   "metadata": {},
   "outputs": [],
   "source": [
    "b.append('Meou')"
   ]
  },
  {
   "cell_type": "code",
   "execution_count": null,
   "id": "647e7e47",
   "metadata": {},
   "outputs": [],
   "source": [
    "a"
   ]
  },
  {
   "cell_type": "code",
   "execution_count": null,
   "id": "88438c2e",
   "metadata": {},
   "outputs": [],
   "source": [
    "a.append(\"meow\")"
   ]
  },
  {
   "cell_type": "code",
   "execution_count": null,
   "id": "04942077",
   "metadata": {},
   "outputs": [],
   "source": [
    "a"
   ]
  },
  {
   "cell_type": "code",
   "execution_count": null,
   "id": "00db2244",
   "metadata": {},
   "outputs": [],
   "source": [
    "a =[]\n",
    "b = input(\"Enter a value to append\")\n",
    "a.append(b)\n",
    "print(a)"
   ]
  },
  {
   "cell_type": "code",
   "execution_count": 3,
   "id": "56156d51",
   "metadata": {},
   "outputs": [
    {
     "name": "stdout",
     "output_type": "stream",
     "text": [
      "Enter n= 5\n",
      "Enter the value of b = 12\n",
      "Enter the value of b = 23\n",
      "Enter the value of b = 34\n",
      "Enter the value of b = 65\n",
      "Enter the value of b = 43\n",
      "[12, 23, 34, 65, 43]\n"
     ]
    }
   ],
   "source": [
    "a = []\n",
    "n = int(input(\"Enter n= \"))\n",
    "for i in range(n):\n",
    "    b = int(input(\"Enter the value of b = \"))\n",
    "    a.append(b)\n",
    "print(a)"
   ]
  },
  {
   "cell_type": "code",
   "execution_count": 5,
   "id": "2b3bf5d5",
   "metadata": {},
   "outputs": [
    {
     "name": "stdout",
     "output_type": "stream",
     "text": [
      "The max vaue =  65\n",
      "The max vaue =  12\n",
      "The sum =  177\n"
     ]
    }
   ],
   "source": [
    "print(\"The max vaue = \", max(a))\n",
    "print(\"The max vaue = \", min(a))\n",
    "print(\"The sum = \", sum(a))"
   ]
  },
  {
   "cell_type": "code",
   "execution_count": 6,
   "id": "cd38826c",
   "metadata": {},
   "outputs": [
    {
     "name": "stdout",
     "output_type": "stream",
     "text": [
      "[12, 23, 34, 43, 65]\n"
     ]
    }
   ],
   "source": [
    "a.sort()\n",
    "print(a)"
   ]
  },
  {
   "cell_type": "code",
   "execution_count": 7,
   "id": "ed094578",
   "metadata": {},
   "outputs": [
    {
     "name": "stdout",
     "output_type": "stream",
     "text": [
      "[65, 43, 34, 23, 12]\n"
     ]
    }
   ],
   "source": [
    "a.reverse()\n",
    "print(a)"
   ]
  },
  {
   "cell_type": "code",
   "execution_count": 10,
   "id": "c619d3af",
   "metadata": {},
   "outputs": [
    {
     "name": "stdout",
     "output_type": "stream",
     "text": [
      "<class 'str'>\n"
     ]
    }
   ],
   "source": [
    "b = [\"Apple\", \"Ball\", \"cat\", \"Dog\", \"Fish\", \"1\"]\n",
    "print(type(b[5]))"
   ]
  },
  {
   "cell_type": "code",
   "execution_count": 11,
   "id": "9c0f5e3a",
   "metadata": {},
   "outputs": [
    {
     "name": "stdout",
     "output_type": "stream",
     "text": [
      "<class 'int'>\n"
     ]
    }
   ],
   "source": [
    "b[5] = int(b[5])\n",
    "print(type(b[5]))"
   ]
  },
  {
   "cell_type": "code",
   "execution_count": null,
   "id": "6405d134",
   "metadata": {},
   "outputs": [],
   "source": []
  },
  {
   "cell_type": "code",
   "execution_count": null,
   "id": "7090182e",
   "metadata": {},
   "outputs": [],
   "source": []
  },
  {
   "cell_type": "code",
   "execution_count": null,
   "id": "3e0db00e",
   "metadata": {},
   "outputs": [],
   "source": []
  },
  {
   "cell_type": "code",
   "execution_count": null,
   "id": "ccf1f8b2",
   "metadata": {},
   "outputs": [],
   "source": []
  },
  {
   "cell_type": "code",
   "execution_count": 22,
   "id": "9ce4250a",
   "metadata": {},
   "outputs": [
    {
     "name": "stdout",
     "output_type": "stream",
     "text": [
      "['Apple', 'Elephant', 'Ball', 'cat', 'Dog', 'Fish']\n",
      "['Apple', 'Elephant', 'Ball', 'cat', 'Dog', 'Fish', 'Girafee']\n",
      "['Apple', 'Ball', 'cat', 'Dog', 'Fish', 'Girafee']\n",
      "['Apple', 'Ball', 'cat', 'Dog', 'Fish']\n",
      "[1, 2, 3, 4, 5, 6, 'Apple', 'Ball', 'cat', 'Dog', 'Fish']\n"
     ]
    }
   ],
   "source": [
    "# Insert\n",
    "\n",
    "b.insert(1,\"Elephant\")\n",
    "print(b)\n",
    "\n",
    "#append\n",
    "\n",
    "b.append(\"Girafee\")\n",
    "print(b)\n",
    "\n",
    "#del\n",
    "\n",
    "del b[1]\n",
    "print(b)\n",
    "\n",
    "#pop\n",
    "\n",
    "b.pop()\n",
    "print(b)\n",
    "\n",
    "#extend\n",
    "\n",
    "\n",
    "a = [1,2,3,4,5,6]\n",
    "a.extend(b)\n",
    "print(a)"
   ]
  },
  {
   "cell_type": "code",
   "execution_count": 23,
   "id": "9c3030f1",
   "metadata": {},
   "outputs": [
    {
     "name": "stdout",
     "output_type": "stream",
     "text": [
      "[1, 2, 3, 4, 5, 6, 'Apple', 'Ball', 'cat', 'Dog', 'Fish']\n"
     ]
    }
   ],
   "source": [
    "print(a)"
   ]
  },
  {
   "cell_type": "code",
   "execution_count": 25,
   "id": "1d4e89bc",
   "metadata": {},
   "outputs": [
    {
     "name": "stdout",
     "output_type": "stream",
     "text": [
      "Yes\n"
     ]
    }
   ],
   "source": [
    "if \"Apple\" in a:\n",
    "    print(\"Yes\")\n",
    "else:\n",
    "    print(\"No\")"
   ]
  },
  {
   "cell_type": "code",
   "execution_count": 28,
   "id": "f95b31a7",
   "metadata": {},
   "outputs": [
    {
     "name": "stdout",
     "output_type": "stream",
     "text": [
      "Yes\n"
     ]
    }
   ],
   "source": [
    "a = [\"Ram\", \"Shyam\", \"Hari\", \"Sita\", \"Gita\"]\n",
    "if \"ram\".lower() in [s.lower() for s in a]:\n",
    "    print(\"Yes\")\n",
    "else:\n",
    "    print(\"No\")"
   ]
  },
  {
   "cell_type": "code",
   "execution_count": 29,
   "id": "4c0d7861",
   "metadata": {},
   "outputs": [
    {
     "data": {
      "text/plain": [
       "['Apple', 'Xray', 'Ant', 'Pine Apple']"
      ]
     },
     "execution_count": 29,
     "metadata": {},
     "output_type": "execute_result"
    }
   ],
   "source": [
    "a = [\"Zebrea\", \"Orange\", \"Apple\", \"Xray\", \"Ant\", \"Pine Apple\"]\n",
    "del a[0:2]\n",
    "a"
   ]
  },
  {
   "cell_type": "code",
   "execution_count": 30,
   "id": "537aa695",
   "metadata": {},
   "outputs": [],
   "source": [
    "a.remove(\"Xray\")"
   ]
  },
  {
   "cell_type": "code",
   "execution_count": 31,
   "id": "a0fe5bb6",
   "metadata": {},
   "outputs": [
    {
     "data": {
      "text/plain": [
       "['Apple', 'Ant', 'Pine Apple']"
      ]
     },
     "execution_count": 31,
     "metadata": {},
     "output_type": "execute_result"
    }
   ],
   "source": [
    "a"
   ]
  },
  {
   "cell_type": "code",
   "execution_count": 42,
   "id": "a121cbdb",
   "metadata": {},
   "outputs": [
    {
     "name": "stdout",
     "output_type": "stream",
     "text": [
      "2\n",
      "6\n"
     ]
    }
   ],
   "source": [
    "a = [\"Zebrea\", \"Orange\", \"Apple\", \"Xray\", \"Ant\", \"Pine Apple\", \"Apple\", \"Ant\"]\n",
    "n = a.count(\"Apple\")\n",
    "for i in range(len(a)):\n",
    "    if a[i] == \"Apple\":\n",
    "        print(i)"
   ]
  },
  {
   "cell_type": "code",
   "execution_count": 52,
   "id": "5280aca6",
   "metadata": {},
   "outputs": [
    {
     "name": "stdout",
     "output_type": "stream",
     "text": [
      "Apple\n",
      "Ant\n",
      "Apple\n",
      "Ant\n"
     ]
    }
   ],
   "source": [
    "a = [\"Zebra\", \"Orange\", \"Apple\", \"Xray\", \"Ant\", \"Pine Apple\", \"Apple\", \"Ant\"]\n",
    "for i in range(len(a)):\n",
    "    if a[i][0] == \"A\":\n",
    "        print(a[i])\n"
   ]
  },
  {
   "cell_type": "code",
   "execution_count": 53,
   "id": "a57d6de6",
   "metadata": {},
   "outputs": [
    {
     "data": {
      "text/plain": [
       "[1, [2, 3], [4, 5], 6, 7, 8, [10, 11]]"
      ]
     },
     "execution_count": 53,
     "metadata": {},
     "output_type": "execute_result"
    }
   ],
   "source": [
    "### lists inside list\n",
    "\n",
    "a= [1,[2,3], [4,5] , 6, 7, 8, [10,11]]\n"
   ]
  },
  {
   "cell_type": "code",
   "execution_count": 54,
   "id": "256148b4",
   "metadata": {},
   "outputs": [],
   "source": [
    "a= [[1,2,3],\n",
    "    [4,5, 6],\n",
    "    [7, 8, 9]]"
   ]
  },
  {
   "cell_type": "code",
   "execution_count": 57,
   "id": "1f5424b3",
   "metadata": {},
   "outputs": [
    {
     "name": "stdout",
     "output_type": "stream",
     "text": [
      "Enter n= 3\n",
      "Enter name= parbat\n",
      "Enter age = 20\n",
      "Enter address = itahari\n",
      "Enter name= rohan\n",
      "Enter age = 21\n",
      "Enter address = ktm\n",
      "Enter name= bikul\n",
      "Enter age = 22\n",
      "Enter address = ktm\n",
      "[['parbat', 20, 'itahari'], ['rohan', 21, 'ktm'], ['bikul', 22, 'ktm']]\n"
     ]
    }
   ],
   "source": [
    "## appending data into the list\n",
    "\n",
    "info = []\n",
    "n = int(input(\"Enter n= \"))\n",
    "for i in range(n):\n",
    "    name = input(\"Enter name= \")\n",
    "    age = int(input(\"Enter age = \"))\n",
    "    Add = input(\"Enter address = \")\n",
    "    data = [name, age, Add]\n",
    "    info.append(data)\n",
    "    \n",
    "print(info)"
   ]
  },
  {
   "cell_type": "code",
   "execution_count": null,
   "id": "84ac4843",
   "metadata": {},
   "outputs": [],
   "source": []
  },
  {
   "cell_type": "code",
   "execution_count": null,
   "id": "85532abd",
   "metadata": {},
   "outputs": [],
   "source": []
  },
  {
   "cell_type": "code",
   "execution_count": 59,
   "id": "b4476cfa",
   "metadata": {},
   "outputs": [
    {
     "data": {
      "text/plain": [
       "'parbat'"
      ]
     },
     "execution_count": 59,
     "metadata": {},
     "output_type": "execute_result"
    }
   ],
   "source": [
    "info[0][0]"
   ]
  },
  {
   "cell_type": "code",
   "execution_count": 62,
   "id": "b82dac9a",
   "metadata": {},
   "outputs": [],
   "source": [
    "info[0][0] = (\"Shyam\")"
   ]
  },
  {
   "cell_type": "code",
   "execution_count": 63,
   "id": "c6bd1071",
   "metadata": {},
   "outputs": [
    {
     "data": {
      "text/plain": [
       "'Shyam'"
      ]
     },
     "execution_count": 63,
     "metadata": {},
     "output_type": "execute_result"
    }
   ],
   "source": [
    "info[0][0]"
   ]
  },
  {
   "cell_type": "code",
   "execution_count": 90,
   "id": "ea5ce1aa",
   "metadata": {},
   "outputs": [
    {
     "name": "stdout",
     "output_type": "stream",
     "text": [
      "Enter the name to check = hari\n",
      "Yes hari is available\n"
     ]
    }
   ],
   "source": [
    "a = [\"Ram\", \"Shyam\", \"Hari\", \"Sita\", \"Gita\"]\n",
    "b = input(\"Enter the name to check = \")\n",
    "for i in range(len(a)):\n",
    "    if b.lower() == a[i].lower():\n",
    "        print(f\"Yes {b} is available\")\n",
    "        break\n",
    "else:\n",
    "    print(\"No\")"
   ]
  },
  {
   "cell_type": "code",
   "execution_count": 64,
   "id": "8f1f7cf5",
   "metadata": {},
   "outputs": [],
   "source": [
    "## searching row data using name"
   ]
  },
  {
   "cell_type": "code",
   "execution_count": 83,
   "id": "174af3be",
   "metadata": {},
   "outputs": [
    {
     "name": "stdout",
     "output_type": "stream",
     "text": [
      "Enter the name to search= parbat\n",
      "Parbat is not available\n"
     ]
    }
   ],
   "source": [
    "a = [['parbat', 20, 'itahari'], ['rohan', 21, 'ktm'], ['bikul', 22, 'ktm']]\n",
    "\n",
    "x = input(\"Enter the name to search= \")\n",
    "for i in range(len(a)):\n",
    "    if x.lower() in [s.lower() for s in a[i][0]]:\n",
    "        print(\"parbat is available\")\n",
    "    else:\n",
    "        print(\"Parbat is not available\")\n",
    "        break"
   ]
  },
  {
   "cell_type": "code",
   "execution_count": 84,
   "id": "ad88a122",
   "metadata": {},
   "outputs": [
    {
     "name": "stdout",
     "output_type": "stream",
     "text": [
      "Enter the string to search: parbat\n",
      "The first element of the 1th data is parbat\n"
     ]
    }
   ],
   "source": [
    "a = [['parbat', 20, 'itahari'], ['rohan', 21, 'ktm'], ['bikul', 22, 'ktm']]\n",
    "\n",
    "search_str = input(\"Enter the string to search: \")\n",
    "\n",
    "for i in range(len(a)):\n",
    "    if search_str.lower() == a[i][0].lower():\n",
    "        print(f\"The first element of the {i+1}th data is {a[i][0]}\")\n",
    "        break\n",
    "else:\n",
    "    print(f\"{search_str} is not available in the list\")\n"
   ]
  },
  {
   "cell_type": "code",
   "execution_count": 96,
   "id": "8c2e06a0",
   "metadata": {},
   "outputs": [],
   "source": [
    "d = {\"name\":[\"Ram\", \"Shyam\", \"Hari\"],\n",
    "     \"age\":[45,46,37],\n",
    "     \"add\":[\"Kathmandu\", \"Lalitpur\",\"Bhaktapur\"]}"
   ]
  },
  {
   "cell_type": "code",
   "execution_count": 1,
   "id": "4751dfe7",
   "metadata": {},
   "outputs": [
    {
     "name": "stdout",
     "output_type": "stream",
     "text": [
      "Enter n = 1\n",
      "Enter name = parbat\n",
      "Enter age = 20\n",
      "Enter address = itahari\n"
     ]
    },
    {
     "data": {
      "text/plain": [
       "{'name': ['parbat'], 'age': [20], 'add': ['itahari']}"
      ]
     },
     "execution_count": 1,
     "metadata": {},
     "output_type": "execute_result"
    }
   ],
   "source": [
    "d = {\"name\":[], \"age\":[], \"add\": []}\n",
    "n = int(input(\"Enter n = \"))\n",
    "for i in range(n):\n",
    "    name = input(\"Enter name = \")\n",
    "    age = int(input(\"Enter age = \"))\n",
    "    add = input(\"Enter address = \")\n",
    "    d[\"name\"].append(name)\n",
    "    d[\"age\"].append(age)\n",
    "    d[\"add\"].append(add)\n",
    "d"
   ]
  },
  {
   "cell_type": "code",
   "execution_count": null,
   "id": "7c3c8eb9",
   "metadata": {},
   "outputs": [],
   "source": []
  }
 ],
 "metadata": {
  "kernelspec": {
   "display_name": "Python 3 (ipykernel)",
   "language": "python",
   "name": "python3"
  },
  "language_info": {
   "codemirror_mode": {
    "name": "ipython",
    "version": 3
   },
   "file_extension": ".py",
   "mimetype": "text/x-python",
   "name": "python",
   "nbconvert_exporter": "python",
   "pygments_lexer": "ipython3",
   "version": "3.9.13"
  }
 },
 "nbformat": 4,
 "nbformat_minor": 5
}
