{
 "cells": [
  {
   "cell_type": "code",
   "execution_count": 1,
   "id": "904f995d",
   "metadata": {},
   "outputs": [],
   "source": [
    "# b = open('<file_name>', '<modes>')\n",
    "# b.close()\n",
    "\n",
    "# with open('file_name','modes') as file:\n",
    "#    <operation>"
   ]
  },
  {
   "cell_type": "code",
   "execution_count": 2,
   "id": "830b8f58",
   "metadata": {},
   "outputs": [],
   "source": [
    "#modes\n",
    "# read ->r\n",
    "# write ->w\n",
    "# create ->x\n",
    "# append ->a"
   ]
  },
  {
   "cell_type": "code",
   "execution_count": 7,
   "id": "c224db42",
   "metadata": {},
   "outputs": [],
   "source": [
    "file = open('data.txt', 'x')\n",
    "file.close()"
   ]
  },
  {
   "cell_type": "code",
   "execution_count": 23,
   "id": "0d04951e",
   "metadata": {},
   "outputs": [
    {
     "name": "stdout",
     "output_type": "stream",
     "text": [
      "\n"
     ]
    }
   ],
   "source": [
    "# create mode\n",
    "\n",
    "file = open('data.txt', 'r')\n",
    "\n",
    "# read mode\n",
    "x = file.read()\n",
    "print(file.read())\n",
    "file.close()"
   ]
  },
  {
   "cell_type": "code",
   "execution_count": 24,
   "id": "989eebc1",
   "metadata": {},
   "outputs": [],
   "source": [
    "x = x.split('\\n')"
   ]
  },
  {
   "cell_type": "code",
   "execution_count": 25,
   "id": "48b4c98e",
   "metadata": {},
   "outputs": [
    {
     "data": {
      "text/plain": [
       "'1. Hello World'"
      ]
     },
     "execution_count": 25,
     "metadata": {},
     "output_type": "execute_result"
    }
   ],
   "source": [
    "x[0]"
   ]
  },
  {
   "cell_type": "code",
   "execution_count": 20,
   "id": "0159c6f4",
   "metadata": {},
   "outputs": [
    {
     "data": {
      "text/plain": [
       "['1. Hello World', '3. Hello World', '5. Hello World', '7. Hello World']"
      ]
     },
     "execution_count": 20,
     "metadata": {},
     "output_type": "execute_result"
    }
   ],
   "source": [
    "x[0:8:2]"
   ]
  },
  {
   "cell_type": "code",
   "execution_count": 26,
   "id": "461f1cf1",
   "metadata": {},
   "outputs": [],
   "source": [
    "file = open(\"data.txt\", 'w')\n",
    "file.write(\"Hello World\")\n",
    "file.close()"
   ]
  },
  {
   "cell_type": "code",
   "execution_count": 29,
   "id": "a4b29cae",
   "metadata": {},
   "outputs": [
    {
     "data": {
      "text/plain": [
       "'Hello World'"
      ]
     },
     "execution_count": 29,
     "metadata": {},
     "output_type": "execute_result"
    }
   ],
   "source": [
    "file = open('data.txt', 'r')\n",
    "file.read()"
   ]
  },
  {
   "cell_type": "code",
   "execution_count": 42,
   "id": "8e860c69",
   "metadata": {},
   "outputs": [
    {
     "name": "stdout",
     "output_type": "stream",
     "text": [
      "Enter the value of n = 2\n",
      "Enter the product name = apple\n",
      "Enter the price = 150\n",
      "Enter the quantity = 3\n",
      "Enter the product name = mango\n",
      "Enter the price = 4\n",
      "Enter the quantity = 150\n",
      "The apple costs 450\n",
      "The mango costs 600\n",
      "\n"
     ]
    }
   ],
   "source": [
    "s = \"\"\n",
    "n = int(input('Enter the value of n = '))\n",
    "for i in range(n):\n",
    "    product = input(\"Enter the product name = \")\n",
    "    price = int(input(\"Enter the price = \"))\n",
    "    quantity = int(input('Enter the quantity = '))\n",
    "    total = price * quantity\n",
    "    output = f\"The {product} costs {total}\\n\"\n",
    "    s = s + output\n",
    "print(s)\n",
    "\n",
    "file = open('bill.txt', 'w')\n",
    "file.write(s)\n",
    "file.close()"
   ]
  },
  {
   "cell_type": "code",
   "execution_count": 45,
   "id": "1c97f30c",
   "metadata": {},
   "outputs": [
    {
     "name": "stdout",
     "output_type": "stream",
     "text": [
      "The apple costs 450\n",
      "The mango costs 600\n",
      "\n"
     ]
    }
   ],
   "source": [
    "file = open('bill.txt', 'r')\n",
    "x = file.read()\n",
    "print(x)\n",
    "file.close()"
   ]
  },
  {
   "cell_type": "code",
   "execution_count": 59,
   "id": "6c6fc4af",
   "metadata": {},
   "outputs": [
    {
     "name": "stdout",
     "output_type": "stream",
     "text": [
      "Enter the value of n = 2\n",
      "Enter the product name = apple\n",
      "Enter the price = 150\n",
      "Enter the quantity = 2\n",
      "Enter the product name = mango\n",
      "Enter the price = 160\n",
      "Enter the quantity = 3\n",
      " mango 160 3 480\n",
      "\n"
     ]
    }
   ],
   "source": [
    "file= open('billing.txt', 'a')\n",
    "n = int(input('Enter the value of n = '))\n",
    "for i in range(n):\n",
    "    product = input(\"Enter the product name = \")\n",
    "    price = int(input(\"Enter the price = \"))\n",
    "    quantity = int(input('Enter the quantity = '))\n",
    "    total = price * quantity\n",
    "    info = f\" {product} {price} {quantity} {total}\\n\"\n",
    "    file.write(info)\n",
    "print(info)\n",
    "file.close()"
   ]
  },
  {
   "cell_type": "code",
   "execution_count": 61,
   "id": "3b512040",
   "metadata": {},
   "outputs": [
    {
     "name": "stdout",
     "output_type": "stream",
     "text": [
      "['The coke costs 300', 'The momo costs 480', 'The apple costs 300', 'The mango costs 390', ' apple 150 2 300', ' mango 160 3 480']\n"
     ]
    }
   ],
   "source": [
    "file = open('billing.txt', 'r')\n",
    "x = file.read()\n",
    "y = x.split(\"\\n\")[0:-1]\n",
    "print(y)\n",
    "file.close()"
   ]
  },
  {
   "cell_type": "code",
   "execution_count": 62,
   "id": "73e0fb08",
   "metadata": {},
   "outputs": [
    {
     "name": "stdout",
     "output_type": "stream",
     "text": [
      "['The', 'coke', 'costs', '300']\n",
      "['The', 'momo', 'costs', '480']\n",
      "['The', 'apple', 'costs', '300']\n",
      "['The', 'mango', 'costs', '390']\n",
      "['apple', '150', '2', '300']\n",
      "['mango', '160', '3', '480']\n"
     ]
    },
    {
     "data": {
      "text/plain": [
       "[['The', 'coke', 'costs', '300'],\n",
       " ['The', 'momo', 'costs', '480'],\n",
       " ['The', 'apple', 'costs', '300'],\n",
       " ['The', 'mango', 'costs', '390'],\n",
       " ['apple', '150', '2', '300'],\n",
       " ['mango', '160', '3', '480']]"
      ]
     },
     "execution_count": 62,
     "metadata": {},
     "output_type": "execute_result"
    }
   ],
   "source": [
    "net_bill =[]\n",
    "for i in y:\n",
    "    x = i.split()\n",
    "    print(x)\n",
    "    net_bill.append(x)\n",
    "net_bill"
   ]
  },
  {
   "cell_type": "code",
   "execution_count": 63,
   "id": "8124f941",
   "metadata": {},
   "outputs": [
    {
     "name": "stdout",
     "output_type": "stream",
     "text": [
      "Enter the value of n = 2\n",
      "Enter the product name = apple\n",
      "Enter the price = 150\n",
      "Enter the quantity = 3\n",
      "Enter the product name = mango\n",
      "Enter the price = 3\n",
      "Enter the quantity = 160\n",
      " apple,150,3,450\n",
      " mango,3,160,480\n",
      "\n"
     ]
    }
   ],
   "source": [
    "s = \"\"\n",
    "n = int(input('Enter the value of n = '))\n",
    "for i in range(n):\n",
    "    product = input(\"Enter the product name = \")\n",
    "    price = int(input(\"Enter the price = \"))\n",
    "    quantity = int(input('Enter the quantity = '))\n",
    "    total = price * quantity\n",
    "    output = f\" {product},{price},{quantity},{total}\\n\"\n",
    "    s = s + output\n",
    "print(s)\n",
    "\n",
    "file = open('bill.csv', 'w')\n",
    "file.write(s)\n",
    "file.close()"
   ]
  },
  {
   "cell_type": "code",
   "execution_count": 64,
   "id": "9f8e6613",
   "metadata": {},
   "outputs": [
    {
     "data": {
      "text/plain": [
       "'/Users/a1/Broadway infosys Python'"
      ]
     },
     "execution_count": 64,
     "metadata": {},
     "output_type": "execute_result"
    }
   ],
   "source": [
    "pwd"
   ]
  },
  {
   "cell_type": "code",
   "execution_count": null,
   "id": "2a5f44df",
   "metadata": {},
   "outputs": [],
   "source": []
  }
 ],
 "metadata": {
  "kernelspec": {
   "display_name": "Python 3 (ipykernel)",
   "language": "python",
   "name": "python3"
  },
  "language_info": {
   "codemirror_mode": {
    "name": "ipython",
    "version": 3
   },
   "file_extension": ".py",
   "mimetype": "text/x-python",
   "name": "python",
   "nbconvert_exporter": "python",
   "pygments_lexer": "ipython3",
   "version": "3.9.13"
  }
 },
 "nbformat": 4,
 "nbformat_minor": 5
}
