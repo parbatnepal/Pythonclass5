{
 "cells": [
  {
   "cell_type": "code",
   "execution_count": 4,
   "id": "8c03325a",
   "metadata": {},
   "outputs": [
    {
     "name": "stdout",
     "output_type": "stream",
     "text": [
      "10\n",
      "10.5\n",
      "Hello World\n",
      "True\n"
     ]
    }
   ],
   "source": [
    "a = 10 # this is number\n",
    "b = 10.5 #this is a float\n",
    "c = \"Hello World\" #this is a string\n",
    "d = True #this is a boolean\n",
    "\n",
    "print(a)\n",
    "print(b)\n",
    "print(c)\n",
    "print(d)"
   ]
  },
  {
   "cell_type": "code",
   "execution_count": 5,
   "id": "15cf6df6",
   "metadata": {},
   "outputs": [
    {
     "name": "stdout",
     "output_type": "stream",
     "text": [
      "10 10.5 Hello World True\n"
     ]
    }
   ],
   "source": [
    "print(a,b,c,d)"
   ]
  },
  {
   "cell_type": "code",
   "execution_count": 1,
   "id": "77b58026",
   "metadata": {},
   "outputs": [
    {
     "data": {
      "text/plain": [
       "'10'"
      ]
     },
     "execution_count": 1,
     "metadata": {},
     "output_type": "execute_result"
    }
   ],
   "source": [
    "a = 10\n",
    "b = str(a)\n",
    "b"
   ]
  },
  {
   "cell_type": "code",
   "execution_count": 2,
   "id": "42e2dffe",
   "metadata": {},
   "outputs": [
    {
     "data": {
      "text/plain": [
       "'10.5'"
      ]
     },
     "execution_count": 2,
     "metadata": {},
     "output_type": "execute_result"
    }
   ],
   "source": [
    "a = 10.5\n",
    "b = str(a)\n",
    "b"
   ]
  },
  {
   "cell_type": "code",
   "execution_count": 3,
   "id": "171a6880",
   "metadata": {},
   "outputs": [
    {
     "ename": "ValueError",
     "evalue": "could not convert string to float: 'true'",
     "output_type": "error",
     "traceback": [
      "\u001b[0;31m---------------------------------------------------------------------------\u001b[0m",
      "\u001b[0;31mValueError\u001b[0m                                Traceback (most recent call last)",
      "\u001b[0;32m/var/folders/d1/y8wf384s4170y7d8hmdt13gr0000gn/T/ipykernel_49463/2836822782.py\u001b[0m in \u001b[0;36m<module>\u001b[0;34m\u001b[0m\n\u001b[1;32m      1\u001b[0m \u001b[0ma\u001b[0m \u001b[0;34m=\u001b[0m \u001b[0;34m\"true\"\u001b[0m\u001b[0;34m\u001b[0m\u001b[0;34m\u001b[0m\u001b[0m\n\u001b[0;32m----> 2\u001b[0;31m \u001b[0mb\u001b[0m \u001b[0;34m=\u001b[0m \u001b[0mfloat\u001b[0m\u001b[0;34m(\u001b[0m\u001b[0ma\u001b[0m\u001b[0;34m)\u001b[0m\u001b[0;34m\u001b[0m\u001b[0;34m\u001b[0m\u001b[0m\n\u001b[0m\u001b[1;32m      3\u001b[0m \u001b[0mb\u001b[0m\u001b[0;34m\u001b[0m\u001b[0;34m\u001b[0m\u001b[0m\n",
      "\u001b[0;31mValueError\u001b[0m: could not convert string to float: 'true'"
     ]
    }
   ],
   "source": [
    "a = \"true\"\n",
    "b = float(a)\n",
    "b\n"
   ]
  },
  {
   "cell_type": "code",
   "execution_count": 5,
   "id": "1f29d66b",
   "metadata": {},
   "outputs": [
    {
     "name": "stdout",
     "output_type": "stream",
     "text": [
      "59049\n"
     ]
    }
   ],
   "source": [
    "a = 3\n",
    "b = 10\n",
    "c = a ** b\n",
    "print(c)"
   ]
  },
  {
   "cell_type": "code",
   "execution_count": 6,
   "id": "e497c685",
   "metadata": {},
   "outputs": [],
   "source": [
    "c = b // a"
   ]
  },
  {
   "cell_type": "code",
   "execution_count": 7,
   "id": "1da0aff6",
   "metadata": {},
   "outputs": [
    {
     "name": "stdout",
     "output_type": "stream",
     "text": [
      "3\n"
     ]
    }
   ],
   "source": [
    "print(c)"
   ]
  },
  {
   "cell_type": "code",
   "execution_count": 13,
   "id": "7de50e2a",
   "metadata": {},
   "outputs": [],
   "source": [
    "a = \"Hello world\\n\"\n",
    "b = 2\n",
    "c = a * b"
   ]
  },
  {
   "cell_type": "code",
   "execution_count": 14,
   "id": "dcd0555f",
   "metadata": {},
   "outputs": [
    {
     "name": "stdout",
     "output_type": "stream",
     "text": [
      "Hello world\n",
      "Hello world\n",
      "\n"
     ]
    }
   ],
   "source": [
    "print(c)"
   ]
  },
  {
   "cell_type": "code",
   "execution_count": 17,
   "id": "0413162f",
   "metadata": {},
   "outputs": [
    {
     "ename": "ZeroDivisionError",
     "evalue": "division by zero",
     "output_type": "error",
     "traceback": [
      "\u001b[0;31m---------------------------------------------------------------------------\u001b[0m",
      "\u001b[0;31mZeroDivisionError\u001b[0m                         Traceback (most recent call last)",
      "\u001b[0;32m/var/folders/d1/y8wf384s4170y7d8hmdt13gr0000gn/T/ipykernel_49463/1649831836.py\u001b[0m in \u001b[0;36m<module>\u001b[0;34m\u001b[0m\n\u001b[1;32m      1\u001b[0m \u001b[0ma\u001b[0m \u001b[0;34m=\u001b[0m \u001b[0;32mTrue\u001b[0m\u001b[0;34m\u001b[0m\u001b[0;34m\u001b[0m\u001b[0m\n\u001b[1;32m      2\u001b[0m \u001b[0mb\u001b[0m \u001b[0;34m=\u001b[0m \u001b[0;32mFalse\u001b[0m\u001b[0;34m\u001b[0m\u001b[0;34m\u001b[0m\u001b[0m\n\u001b[0;32m----> 3\u001b[0;31m \u001b[0mc\u001b[0m \u001b[0;34m=\u001b[0m \u001b[0ma\u001b[0m \u001b[0;34m/\u001b[0m \u001b[0mb\u001b[0m\u001b[0;34m\u001b[0m\u001b[0;34m\u001b[0m\u001b[0m\n\u001b[0m\u001b[1;32m      4\u001b[0m \u001b[0mprint\u001b[0m\u001b[0;34m(\u001b[0m\u001b[0mc\u001b[0m\u001b[0;34m)\u001b[0m\u001b[0;34m\u001b[0m\u001b[0;34m\u001b[0m\u001b[0m\n",
      "\u001b[0;31mZeroDivisionError\u001b[0m: division by zero"
     ]
    }
   ],
   "source": [
    "a = True\n",
    "b = False\n",
    "c = a / b\n",
    "print(c)"
   ]
  },
  {
   "cell_type": "code",
   "execution_count": 18,
   "id": "e895bcf1",
   "metadata": {},
   "outputs": [
    {
     "name": "stdout",
     "output_type": "stream",
     "text": [
      "4\n",
      "8\n"
     ]
    }
   ],
   "source": [
    "a = int(input())\n",
    "b = a + a\n",
    "print(b)"
   ]
  },
  {
   "cell_type": "code",
   "execution_count": 1,
   "id": "3d344801",
   "metadata": {},
   "outputs": [
    {
     "name": "stdout",
     "output_type": "stream",
     "text": [
      "what is your name? Parbat\n",
      "Your name is Parbat\n"
     ]
    }
   ],
   "source": [
    "name = input(\"what is your name? \")\n",
    "print(\"Your name is \" + name)"
   ]
  },
  {
   "cell_type": "code",
   "execution_count": 3,
   "id": "ee5065d2",
   "metadata": {},
   "outputs": [
    {
     "name": "stdout",
     "output_type": "stream",
     "text": [
      "Enter principal 1000\n",
      "Enter the time 2\n",
      "Enter the rate 12\n",
      "240.0\n"
     ]
    }
   ],
   "source": [
    "p = int(input(\"Enter principal \"))\n",
    "t = float(input(\"Enter the time \"))\n",
    "r = float(input(\"Enter the rate \"))\n",
    "I = (p*t*r)/100\n",
    "print(I)"
   ]
  },
  {
   "cell_type": "code",
   "execution_count": 5,
   "id": "1d171a81",
   "metadata": {},
   "outputs": [
    {
     "name": "stdout",
     "output_type": "stream",
     "text": [
      "Enter your name\n",
      "parbat\n",
      "Enter your age\n",
      "22\n",
      "Enter your address\n",
      "itahari\n",
      "I am an astrologer and i can predict your name, age and address. Your name is parbat Your age is 22 and you live in itahari\n"
     ]
    }
   ],
   "source": [
    "name = input(\"Enter your name\\n\")\n",
    "age = input(\"Enter your age\\n\")\n",
    "address = input(\"Enter your address\\n\")\n",
    "output = (\"I am an astrologer and i can predict your name, age and address. Your name is \"+ name+\" Your age is \" + age + \" and you live in \" + address)\n",
    "print(output)"
   ]
  },
  {
   "cell_type": "code",
   "execution_count": 2,
   "id": "5aca1abe",
   "metadata": {},
   "outputs": [
    {
     "name": "stdout",
     "output_type": "stream",
     "text": [
      "Enter your nameparbat\n",
      "Enter your age22\n",
      "Enter your physics marks\n",
      "92\n",
      "Enter your chemistry marks\n",
      "91\n",
      "Enter your maths marks\n",
      "95\n",
      "Enter your english marks\n",
      "93\n",
      "Enter your nepali marks\n",
      "85\n",
      "Your percentage is 91.2\n",
      "parbat aged 22 got 91.2 percent and A grade\n"
     ]
    }
   ],
   "source": [
    "name = input(\"Enter your name\")\n",
    "age = input(\"Enter your age\")\n",
    "p1 = int(input(\"Enter your physics marks\\n\"))\n",
    "c1 = int(input(\"Enter your chemistry marks\\n\"))\n",
    "m1 = int(input(\"Enter your maths marks\\n\"))\n",
    "e1 = int(input(\"Enter your english marks\\n\"))\n",
    "n1 = int(input(\"Enter your nepali marks\\n\"))\n",
    "percentage = float((p1+c1+m1+e1+n1)/500*100)\n",
    "print(\"Your percentage is \" + str(percentage))\n",
    "\n",
    "if percentage >= 80:\n",
    "    print(f\"{name} aged {age} got {percentage} percent and A grade\")\n",
    "elif percentage >= 60:\n",
    "    print(f\"{name} aged {age} got {percentage} percent and B grade\")\n",
    "elif percentage >= 45:\n",
    "    print(f\"{name} aged {age} got {percentage} percent and C grade\")\n",
    "else:\n",
    "    print(f\"{name} aged {age} got {percentage} percent and F grade\")"
   ]
  },
  {
   "cell_type": "code",
   "execution_count": null,
   "id": "054df453",
   "metadata": {},
   "outputs": [],
   "source": []
  }
 ],
 "metadata": {
  "kernelspec": {
   "display_name": "Python 3 (ipykernel)",
   "language": "python",
   "name": "python3"
  },
  "language_info": {
   "codemirror_mode": {
    "name": "ipython",
    "version": 3
   },
   "file_extension": ".py",
   "mimetype": "text/x-python",
   "name": "python",
   "nbconvert_exporter": "python",
   "pygments_lexer": "ipython3",
   "version": "3.9.13"
  }
 },
 "nbformat": 4,
 "nbformat_minor": 5
}
