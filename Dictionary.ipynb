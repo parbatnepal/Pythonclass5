{
 "cells": [
  {
   "cell_type": "code",
   "execution_count": 1,
   "id": "0e651cde",
   "metadata": {},
   "outputs": [],
   "source": [
    "## Dictionary\n",
    "# Indexing\n",
    "#multiple data\n",
    "# Ordered\n",
    "# Mutable - change of value affects both variable"
   ]
  },
  {
   "cell_type": "code",
   "execution_count": 2,
   "id": "1eb9a40c",
   "metadata": {},
   "outputs": [],
   "source": [
    "# d = {\"key\":\"Parbat\", \"phone\": \"9842906058\"}"
   ]
  },
  {
   "cell_type": "code",
   "execution_count": null,
   "id": "39afdf58",
   "metadata": {},
   "outputs": [],
   "source": []
  },
  {
   "cell_type": "code",
   "execution_count": 3,
   "id": "bfa31fb7",
   "metadata": {},
   "outputs": [],
   "source": [
    "d= {\"a\":\"Apple\", \"b\":\"Ball\", \"c\":\"Cat\"}"
   ]
  },
  {
   "cell_type": "code",
   "execution_count": 4,
   "id": "03c9eb80",
   "metadata": {},
   "outputs": [
    {
     "name": "stdout",
     "output_type": "stream",
     "text": [
      "<class 'dict'>\n"
     ]
    }
   ],
   "source": [
    "print(type(d))"
   ]
  },
  {
   "cell_type": "code",
   "execution_count": 10,
   "id": "ebfdc242",
   "metadata": {},
   "outputs": [
    {
     "name": "stdout",
     "output_type": "stream",
     "text": [
      "{'a': 'Apple', 'b': 'Ball', 'c': 'Cat'}\n"
     ]
    }
   ],
   "source": [
    "print(d)"
   ]
  },
  {
   "cell_type": "code",
   "execution_count": 12,
   "id": "e40ffae0",
   "metadata": {},
   "outputs": [],
   "source": [
    "d= {0:\"Apple\", 1:\"Ball\", 2:\"Cat\"}"
   ]
  },
  {
   "cell_type": "code",
   "execution_count": 13,
   "id": "464c7ba1",
   "metadata": {},
   "outputs": [
    {
     "name": "stdout",
     "output_type": "stream",
     "text": [
      "{0: 'Apple', 1: 'Ball', 2: 'Cat'}\n"
     ]
    }
   ],
   "source": [
    "print(d)"
   ]
  },
  {
   "cell_type": "code",
   "execution_count": 14,
   "id": "b9ecf20f",
   "metadata": {},
   "outputs": [],
   "source": [
    "d= {\"a\":\"Apple\", \"b\":\"Ball\", \"c\":\"Cat\"}"
   ]
  },
  {
   "cell_type": "code",
   "execution_count": 15,
   "id": "34b417c0",
   "metadata": {},
   "outputs": [
    {
     "name": "stdout",
     "output_type": "stream",
     "text": [
      "Apple\n"
     ]
    }
   ],
   "source": [
    "print(d[\"a\"])"
   ]
  },
  {
   "cell_type": "code",
   "execution_count": 16,
   "id": "f2555f31",
   "metadata": {},
   "outputs": [],
   "source": [
    "b = d"
   ]
  },
  {
   "cell_type": "code",
   "execution_count": 17,
   "id": "d08f4232",
   "metadata": {},
   "outputs": [],
   "source": [
    "b[\"a\"] = \"AApple\""
   ]
  },
  {
   "cell_type": "code",
   "execution_count": 18,
   "id": "fdeb1524",
   "metadata": {},
   "outputs": [
    {
     "data": {
      "text/plain": [
       "{'a': 'AApple', 'b': 'Ball', 'c': 'Cat'}"
      ]
     },
     "execution_count": 18,
     "metadata": {},
     "output_type": "execute_result"
    }
   ],
   "source": [
    "d"
   ]
  },
  {
   "cell_type": "code",
   "execution_count": 21,
   "id": "b2763f86",
   "metadata": {},
   "outputs": [],
   "source": [
    "d ={\"a\":\"Apple\", \"b\":\"Ball\", \"c\":\"Cat\", \"d\":\"Dog\", \"a\":\"Ant\"}"
   ]
  },
  {
   "cell_type": "code",
   "execution_count": 22,
   "id": "7131e3fa",
   "metadata": {},
   "outputs": [
    {
     "data": {
      "text/plain": [
       "{'a': 'Ant', 'b': 'Ball', 'c': 'Cat', 'd': 'Dog'}"
      ]
     },
     "execution_count": 22,
     "metadata": {},
     "output_type": "execute_result"
    }
   ],
   "source": [
    "d"
   ]
  },
  {
   "cell_type": "code",
   "execution_count": 23,
   "id": "55cdac5e",
   "metadata": {},
   "outputs": [],
   "source": [
    "### defining Dictionary\n",
    "# d = dict()\n",
    "## d = {}\n",
    "d[\"a\"] = \"Apple\""
   ]
  },
  {
   "cell_type": "code",
   "execution_count": 27,
   "id": "9ad484e9",
   "metadata": {},
   "outputs": [
    {
     "data": {
      "text/plain": [
       "dict_values(['Apple', 'Ball', 'Cat', 'Dog'])"
      ]
     },
     "execution_count": 27,
     "metadata": {},
     "output_type": "execute_result"
    }
   ],
   "source": [
    "d.values()"
   ]
  },
  {
   "cell_type": "code",
   "execution_count": 33,
   "id": "2b8e38ae",
   "metadata": {},
   "outputs": [],
   "source": [
    "b = list(d.values())"
   ]
  },
  {
   "cell_type": "code",
   "execution_count": 32,
   "id": "77384935",
   "metadata": {},
   "outputs": [
    {
     "data": {
      "text/plain": [
       "[('a', 'Apple'), ('b', 'Ball'), ('c', 'Cat'), ('d', 'Dog')]"
      ]
     },
     "execution_count": 32,
     "metadata": {},
     "output_type": "execute_result"
    }
   ],
   "source": [
    "list(d.items())"
   ]
  },
  {
   "cell_type": "code",
   "execution_count": 34,
   "id": "3ae9202a",
   "metadata": {},
   "outputs": [
    {
     "data": {
      "text/plain": [
       "['Apple', 'Ball', 'Cat', 'Dog']"
      ]
     },
     "execution_count": 34,
     "metadata": {},
     "output_type": "execute_result"
    }
   ],
   "source": [
    "b"
   ]
  },
  {
   "cell_type": "code",
   "execution_count": 35,
   "id": "7d19a711",
   "metadata": {},
   "outputs": [],
   "source": [
    "a = [['a', 'Apple'], ['b', 'Ball'], ['c', 'Cat'], ['d', 'Dog']]"
   ]
  },
  {
   "cell_type": "code",
   "execution_count": 36,
   "id": "1dcdb497",
   "metadata": {},
   "outputs": [
    {
     "data": {
      "text/plain": [
       "{'a': 'Apple', 'b': 'Ball', 'c': 'Cat', 'd': 'Dog'}"
      ]
     },
     "execution_count": 36,
     "metadata": {},
     "output_type": "execute_result"
    }
   ],
   "source": [
    "dict(a)"
   ]
  },
  {
   "cell_type": "code",
   "execution_count": 37,
   "id": "86347cdf",
   "metadata": {},
   "outputs": [
    {
     "name": "stdout",
     "output_type": "stream",
     "text": [
      "['a', 'Apple']\n",
      "['b', 'Ball']\n",
      "['c', 'Cat']\n",
      "['d', 'Dog']\n"
     ]
    }
   ],
   "source": [
    "for i in a:\n",
    "    print(i)"
   ]
  },
  {
   "cell_type": "code",
   "execution_count": 39,
   "id": "13bfd143",
   "metadata": {},
   "outputs": [
    {
     "name": "stdout",
     "output_type": "stream",
     "text": [
      "Ant\n",
      "Ball\n",
      "Cat\n",
      "Dog\n"
     ]
    }
   ],
   "source": [
    "### printing with values\n",
    "\n",
    "\n",
    "d ={\"a\":\"Apple\", \"b\":\"Ball\", \"c\":\"Cat\", \"d\":\"Dog\", \"a\":\"Ant\"}\n",
    "\n",
    "for i in d.values():\n",
    "    print(i)"
   ]
  },
  {
   "cell_type": "code",
   "execution_count": 40,
   "id": "9e21994b",
   "metadata": {},
   "outputs": [
    {
     "name": "stdout",
     "output_type": "stream",
     "text": [
      "('a', 'Ant')\n",
      "('b', 'Ball')\n",
      "('c', 'Cat')\n",
      "('d', 'Dog')\n"
     ]
    }
   ],
   "source": [
    "### printing with keys and values\n",
    "\n",
    "\n",
    "d ={\"a\":\"Apple\", \"b\":\"Ball\", \"c\":\"Cat\", \"d\":\"Dog\", \"a\":\"Ant\"}\n",
    "\n",
    "for i in d.items():\n",
    "    print(i)\n"
   ]
  },
  {
   "cell_type": "code",
   "execution_count": 44,
   "id": "51f3cdb4",
   "metadata": {},
   "outputs": [],
   "source": [
    "## Update and add\n",
    "d ={\"a\":\"Apple\", \"b\":\"Ball\", \"c\":\"Cat\", \"d\":\"Dog\", \"a\":\"Ant\"}\n",
    "d[\"e\"] = \"Elephant\""
   ]
  },
  {
   "cell_type": "code",
   "execution_count": 42,
   "id": "c9d64f0b",
   "metadata": {},
   "outputs": [
    {
     "data": {
      "text/plain": [
       "{'Elephant'}"
      ]
     },
     "execution_count": 42,
     "metadata": {},
     "output_type": "execute_result"
    }
   ],
   "source": [
    "d[\"e\"]"
   ]
  },
  {
   "cell_type": "code",
   "execution_count": 45,
   "id": "88cb92a2",
   "metadata": {},
   "outputs": [
    {
     "data": {
      "text/plain": [
       "{'a': 'Ant', 'b': 'Ball', 'c': 'Cat', 'd': 'Dog', 'e': 'Elephant'}"
      ]
     },
     "execution_count": 45,
     "metadata": {},
     "output_type": "execute_result"
    }
   ],
   "source": [
    "d"
   ]
  },
  {
   "cell_type": "code",
   "execution_count": 62,
   "id": "841b1e99",
   "metadata": {},
   "outputs": [
    {
     "name": "stdout",
     "output_type": "stream",
     "text": [
      "Enter n = 1\n",
      "Enter your name = parbat\n",
      "Enter your phone no = 9842906058\n",
      "{'parbat': '9842906058'}\n"
     ]
    }
   ],
   "source": [
    "d = {}\n",
    "n = int(input(\"Enter n = \"))\n",
    "for i in range(n):\n",
    "    info = input(\"Enter your name = \")\n",
    "    name = input(\"Enter your phone no = \")\n",
    "    d[info] = name\n",
    "print(d)"
   ]
  },
  {
   "cell_type": "code",
   "execution_count": 63,
   "id": "4cb0a0c0",
   "metadata": {},
   "outputs": [],
   "source": [
    "d.clear()"
   ]
  },
  {
   "cell_type": "code",
   "execution_count": 64,
   "id": "112659da",
   "metadata": {},
   "outputs": [
    {
     "data": {
      "text/plain": [
       "{}"
      ]
     },
     "execution_count": 64,
     "metadata": {},
     "output_type": "execute_result"
    }
   ],
   "source": [
    "d"
   ]
  },
  {
   "cell_type": "code",
   "execution_count": 65,
   "id": "7e972c70",
   "metadata": {},
   "outputs": [],
   "source": [
    "del d"
   ]
  },
  {
   "cell_type": "code",
   "execution_count": 67,
   "id": "94c5b20e",
   "metadata": {},
   "outputs": [],
   "source": [
    "d = {}"
   ]
  },
  {
   "cell_type": "code",
   "execution_count": 69,
   "id": "6290120b",
   "metadata": {},
   "outputs": [],
   "source": [
    "## lists inside dictionary\n",
    "\n",
    "d = {\"Ram\":[9842906058, 9852455034], \"Shyam\":[9852047394,98521487435]}"
   ]
  },
  {
   "cell_type": "code",
   "execution_count": 70,
   "id": "0bf89362",
   "metadata": {},
   "outputs": [
    {
     "name": "stdout",
     "output_type": "stream",
     "text": [
      "{'Ram': [9842906058, 9852455034], 'Shyam': [9852047394, 98521487435]}\n"
     ]
    }
   ],
   "source": [
    "print(d)"
   ]
  },
  {
   "cell_type": "code",
   "execution_count": 71,
   "id": "91873a03",
   "metadata": {},
   "outputs": [
    {
     "name": "stdout",
     "output_type": "stream",
     "text": [
      "[9842906058, 9852455034]\n"
     ]
    }
   ],
   "source": [
    "print(d[\"Ram\"])"
   ]
  },
  {
   "cell_type": "code",
   "execution_count": 72,
   "id": "92512477",
   "metadata": {},
   "outputs": [
    {
     "name": "stdout",
     "output_type": "stream",
     "text": [
      "[9852047394, 98521487435]\n"
     ]
    }
   ],
   "source": [
    "print(d[\"Shyam\"])"
   ]
  },
  {
   "cell_type": "code",
   "execution_count": 75,
   "id": "d23a3032",
   "metadata": {},
   "outputs": [],
   "source": [
    "d[\"Ram\"][0] = \"9842906059\""
   ]
  },
  {
   "cell_type": "code",
   "execution_count": 76,
   "id": "ee2ea3d9",
   "metadata": {},
   "outputs": [
    {
     "data": {
      "text/plain": [
       "'9842906059'"
      ]
     },
     "execution_count": 76,
     "metadata": {},
     "output_type": "execute_result"
    }
   ],
   "source": [
    "d[\"Ram\"][0]"
   ]
  },
  {
   "cell_type": "code",
   "execution_count": 81,
   "id": "ab7582da",
   "metadata": {},
   "outputs": [],
   "source": [
    "d[\"Hari\"] = [9842906048, 9053897543]"
   ]
  },
  {
   "cell_type": "code",
   "execution_count": 82,
   "id": "52ad00c6",
   "metadata": {},
   "outputs": [
    {
     "data": {
      "text/plain": [
       "{'Ram': ['9842906059', 9852455034],\n",
       " 'Shyam': [9852047394, 98521487435],\n",
       " 'Hari': [9842906048, 9053897543]}"
      ]
     },
     "execution_count": 82,
     "metadata": {},
     "output_type": "execute_result"
    }
   ],
   "source": [
    "d"
   ]
  },
  {
   "cell_type": "code",
   "execution_count": null,
   "id": "adf94dc5",
   "metadata": {},
   "outputs": [],
   "source": []
  }
 ],
 "metadata": {
  "kernelspec": {
   "display_name": "Python 3 (ipykernel)",
   "language": "python",
   "name": "python3"
  },
  "language_info": {
   "codemirror_mode": {
    "name": "ipython",
    "version": 3
   },
   "file_extension": ".py",
   "mimetype": "text/x-python",
   "name": "python",
   "nbconvert_exporter": "python",
   "pygments_lexer": "ipython3",
   "version": "3.9.13"
  }
 },
 "nbformat": 4,
 "nbformat_minor": 5
}
