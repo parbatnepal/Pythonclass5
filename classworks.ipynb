{
 "cells": [
  {
   "cell_type": "code",
   "execution_count": 2,
   "id": "738b7711",
   "metadata": {},
   "outputs": [],
   "source": [
    "# Wap to make a billing system in list inside list\n",
    "# Wap to create a program to create a matrix taking row, column and values from users\n",
    "# Wap to create tuple inside tuple and convert it into list inside list\n",
    "# Wap to create dict inside list and CRUD operation\n",
    "# Wap to create dic inside dict and CRUD operations"
   ]
  },
  {
   "cell_type": "code",
   "execution_count": 4,
   "id": "26c6fcf2",
   "metadata": {},
   "outputs": [],
   "source": [
    "a = []\n",
    "c = {\"Apple\" : \"150\", \"Orange\" : \"120\", \"Mango\" : \"180\" }\n",
    "# b = input(f\"What do you want to purchase ? {c} \")\n",
    "# d = input(\"Enter the quantity = \")\n",
    "#print(c[f\"{b}\"])\n",
    "#print(f\"your total is {total}\")\n",
    "### how many quantity"
   ]
  },
  {
   "cell_type": "code",
   "execution_count": 2,
   "id": "975967cd",
   "metadata": {},
   "outputs": [
    {
     "name": "stdout",
     "output_type": "stream",
     "text": [
      "Enter n = 2\n",
      "Enter product name = Apple\n",
      "Enter product price = 150\n",
      "Enter the quantity = 3\n",
      "Your total is 450\n",
      "Enter product name = Mango\n",
      "Enter product price = 160\n",
      "Enter the quantity = 3\n",
      "Your total is 480\n",
      "(('Apple', 150, 3, 450), ('Mango', 160, 3, 480))\n",
      "[['Apple', 150, 3, 450], ['Mango', 160, 3, 480]]\n"
     ]
    }
   ],
   "source": [
    " ### No 1 and 3\n",
    "lis = []\n",
    "bill = ()\n",
    "n = int(input(\"Enter n = \"))\n",
    "for i in range(n):\n",
    "    product = input(\"Enter product name = \")\n",
    "    price = int(input(\"Enter product price = \"))\n",
    "    quantity = int(input(\"Enter the quantity = \"))\n",
    "    total = price * quantity\n",
    "    print(f\"Your total is {total}\")\n",
    "    data = (product, price, quantity, total)\n",
    "    bill = bill + (data,) \n",
    "print(bill)\n",
    "for i in bill:\n",
    "    lis.append(list(i))\n",
    "print(lis)"
   ]
  },
  {
   "cell_type": "code",
   "execution_count": 20,
   "id": "24769581",
   "metadata": {},
   "outputs": [
    {
     "name": "stdout",
     "output_type": "stream",
     "text": [
      "Enter the number of rows = 2\n",
      "Enter the number of columns = 3\n"
     ]
    }
   ],
   "source": [
    "# Wap to create a program to create a matrix taking row, column and values from users\n",
    "\n",
    "row = int(input(\"Enter the number of rows = \"))\n",
    "column = int(input(\"Enter the number of columns = \"))"
   ]
  },
  {
   "cell_type": "code",
   "execution_count": 4,
   "id": "ba25d529",
   "metadata": {},
   "outputs": [
    {
     "name": "stdout",
     "output_type": "stream",
     "text": [
      "Enter n = 1\n",
      "Enter name = parbat\n",
      "Enter your age = 12\n",
      "Enter your address = jdba\n"
     ]
    },
    {
     "data": {
      "text/plain": [
       "['name:bikul, age:22, add:itahari']"
      ]
     },
     "execution_count": 4,
     "metadata": {},
     "output_type": "execute_result"
    }
   ],
   "source": [
    "# Wap to create dict inside list and CRUD operation\n",
    "l = [] # create\n",
    "n = int(input(\"Enter n = \"))\n",
    "for i in range(n):\n",
    "    name = input(\"Enter name = \")\n",
    "    age = int(input(\"Enter your age = \"))\n",
    "    add = input(\"Enter your address = \")\n",
    "    info = {'name':name, 'age':age, 'add':add}\n",
    "    l.append(info)\n",
    "l ## read\n",
    "del l[0] # delete\n",
    "l.append(\"name:bikul, age:22, add:itahari\")\n",
    "l\n"
   ]
  },
  {
   "cell_type": "code",
   "execution_count": 5,
   "id": "7183b6df",
   "metadata": {},
   "outputs": [
    {
     "data": {
      "text/plain": [
       "dict"
      ]
     },
     "execution_count": 5,
     "metadata": {},
     "output_type": "execute_result"
    }
   ],
   "source": [
    "# Wap to create dic inside dict and CRUD operations\n",
    "d = {}\n",
    "type(d)"
   ]
  },
  {
   "cell_type": "code",
   "execution_count": 1,
   "id": "e36db06a",
   "metadata": {},
   "outputs": [
    {
     "name": "stdout",
     "output_type": "stream",
     "text": [
      "Enter the number = 2\n",
      "Enter your name = parbat\n",
      "Enter your age = 22\n",
      "Enter your add = itahari\n",
      "Enter your name = kailash\n",
      "Enter your age = 32\n",
      "Enter your add = itahari\n"
     ]
    },
    {
     "data": {
      "text/plain": [
       "{1: {'name': 'parbat', 'age': '22', 'add': 'itahari'},\n",
       " 2: {'name': 'kailash', 'age': '32', 'add': 'itahari'}}"
      ]
     },
     "execution_count": 1,
     "metadata": {},
     "output_type": "execute_result"
    }
   ],
   "source": [
    "n = int(input(\"Enter the number = \"))\n",
    "d = {}\n",
    "for i in range(1, n+1):\n",
    "    name = input(\"Enter your name = \")\n",
    "    age = input(\"Enter your age = \")\n",
    "    add = input(\"Enter your add = \")\n",
    "    d[i] = {'name':name, 'age': age, 'add': add}\n",
    "d"
   ]
  },
  {
   "cell_type": "code",
   "execution_count": 6,
   "id": "2dac752e",
   "metadata": {},
   "outputs": [
    {
     "ename": "TypeError",
     "evalue": "unhashable type: 'slice'",
     "output_type": "error",
     "traceback": [
      "\u001b[0;31m---------------------------------------------------------------------------\u001b[0m",
      "\u001b[0;31mTypeError\u001b[0m                                 Traceback (most recent call last)",
      "\u001b[0;32m/var/folders/d1/y8wf384s4170y7d8hmdt13gr0000gn/T/ipykernel_36414/3151104485.py\u001b[0m in \u001b[0;36m<module>\u001b[0;34m\u001b[0m\n\u001b[0;32m----> 1\u001b[0;31m \u001b[0md\u001b[0m\u001b[0;34m[\u001b[0m\u001b[0;36m1\u001b[0m\u001b[0;34m:\u001b[0m\u001b[0;34m'name'\u001b[0m\u001b[0;34m]\u001b[0m\u001b[0;34m\u001b[0m\u001b[0;34m\u001b[0m\u001b[0m\n\u001b[0m",
      "\u001b[0;31mTypeError\u001b[0m: unhashable type: 'slice'"
     ]
    }
   ],
   "source": [
    "d[1:'name']"
   ]
  },
  {
   "cell_type": "code",
   "execution_count": null,
   "id": "3740b835",
   "metadata": {},
   "outputs": [],
   "source": []
  }
 ],
 "metadata": {
  "kernelspec": {
   "display_name": "Python 3 (ipykernel)",
   "language": "python",
   "name": "python3"
  },
  "language_info": {
   "codemirror_mode": {
    "name": "ipython",
    "version": 3
   },
   "file_extension": ".py",
   "mimetype": "text/x-python",
   "name": "python",
   "nbconvert_exporter": "python",
   "pygments_lexer": "ipython3",
   "version": "3.9.13"
  }
 },
 "nbformat": 4,
 "nbformat_minor": 5
}
