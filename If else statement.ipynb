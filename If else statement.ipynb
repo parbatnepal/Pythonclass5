{
 "cells": [
  {
   "cell_type": "code",
   "execution_count": 1,
   "id": "b74e418a",
   "metadata": {},
   "outputs": [],
   "source": [
    "#if else statements\n"
   ]
  },
  {
   "cell_type": "code",
   "execution_count": 2,
   "id": "f9189363",
   "metadata": {},
   "outputs": [],
   "source": [
    "# < > <= >= !="
   ]
  },
  {
   "cell_type": "code",
   "execution_count": 3,
   "id": "12099fde",
   "metadata": {},
   "outputs": [
    {
     "name": "stdout",
     "output_type": "stream",
     "text": [
      "False\n",
      "True\n",
      "True\n",
      "False\n",
      "True\n"
     ]
    }
   ],
   "source": [
    "a = 10\n",
    "b = 2\n",
    "print(a<b)\n",
    "print(a>b)\n",
    "print(a!=b)\n",
    "print(a<=b)\n",
    "print(a>=b)"
   ]
  },
  {
   "cell_type": "code",
   "execution_count": 4,
   "id": "5a781ce6",
   "metadata": {},
   "outputs": [
    {
     "name": "stdout",
     "output_type": "stream",
     "text": [
      "a is greater than b\n"
     ]
    }
   ],
   "source": [
    "if a < b:\n",
    "\tprint(\"a is less than b\")\n",
    "else:\n",
    "    print(\"a is greater than b\")"
   ]
  },
  {
   "cell_type": "code",
   "execution_count": 4,
   "id": "9d625028",
   "metadata": {},
   "outputs": [
    {
     "name": "stdout",
     "output_type": "stream",
     "text": [
      "input a number9\n",
      "9 is a odd number\n"
     ]
    }
   ],
   "source": [
    "n = int(input(\"input a number\"))\n",
    "\n",
    "if n % 2 == 0:\n",
    "    print(f\"{n} is a even number\")\n",
    "else:\n",
    "    print(f\"{n} is a odd number\")"
   ]
  },
  {
   "cell_type": "code",
   "execution_count": null,
   "id": "8dfdbbea",
   "metadata": {},
   "outputs": [],
   "source": []
  },
  {
   "cell_type": "code",
   "execution_count": 15,
   "id": "359330f8",
   "metadata": {},
   "outputs": [
    {
     "name": "stdout",
     "output_type": "stream",
     "text": [
      "enter the value of a\n",
      "10\n",
      "enter the value of b\n",
      "8\n",
      "a is greater than b\n"
     ]
    }
   ],
   "source": [
    "a= int(input(\"enter the value of a\\n\"))\n",
    "b = int(input(\"enter the value of b\\n\"))\n",
    "if a > b:\n",
    "    print(\"a is greater than b\")\n",
    "elif b > a:\n",
    "    print(\"b is greater than a\")       \n",
    "else:\n",
    "    print(\"a is equal to b\")"
   ]
  },
  {
   "cell_type": "code",
   "execution_count": null,
   "id": "6e2fe9da",
   "metadata": {},
   "outputs": [],
   "source": [
    "a = int(input(\"Enter a number\"))\n",
    "if a >= 0 & a % 2 == 0 :\n",
    "    print(\"The number is positive and even\")\n",
    "else:\n",
    "    print(\"The number might be negative or odd\")\n",
    "    "
   ]
  }
 ],
 "metadata": {
  "kernelspec": {
   "display_name": "Python 3 (ipykernel)",
   "language": "python",
   "name": "python3"
  },
  "language_info": {
   "codemirror_mode": {
    "name": "ipython",
    "version": 3
   },
   "file_extension": ".py",
   "mimetype": "text/x-python",
   "name": "python",
   "nbconvert_exporter": "python",
   "pygments_lexer": "ipython3",
   "version": "3.9.13"
  }
 },
 "nbformat": 4,
 "nbformat_minor": 5
}
