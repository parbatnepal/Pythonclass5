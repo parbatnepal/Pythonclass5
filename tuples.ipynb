{
 "cells": [
  {
   "cell_type": "code",
   "execution_count": 1,
   "id": "d90b4eda",
   "metadata": {},
   "outputs": [],
   "source": [
    "## tuple\n",
    "#Indexing\n",
    "#ordered\n",
    "#multiple and duplicate data\n",
    "#Imutable\n",
    "\n",
    "\n",
    "## tuple value is not changable"
   ]
  },
  {
   "cell_type": "code",
   "execution_count": 4,
   "id": "0ab4addb",
   "metadata": {},
   "outputs": [],
   "source": [
    "t = (1,2,3,)"
   ]
  },
  {
   "cell_type": "code",
   "execution_count": 5,
   "id": "4927b677",
   "metadata": {},
   "outputs": [
    {
     "data": {
      "text/plain": [
       "tuple"
      ]
     },
     "execution_count": 5,
     "metadata": {},
     "output_type": "execute_result"
    }
   ],
   "source": [
    "type(t)"
   ]
  },
  {
   "cell_type": "code",
   "execution_count": 6,
   "id": "567fd5b1",
   "metadata": {},
   "outputs": [],
   "source": [
    "t = (\"Apple\", \"Banana\", \"cat\",\"Fish\")"
   ]
  },
  {
   "cell_type": "code",
   "execution_count": 7,
   "id": "438e38cf",
   "metadata": {},
   "outputs": [
    {
     "name": "stdout",
     "output_type": "stream",
     "text": [
      "('Apple', 'Banana', 'cat', 'Fish')\n",
      "('Apple', 'Banana', 'cat')\n"
     ]
    }
   ],
   "source": [
    "print(t)\n",
    "print(t[0:3])"
   ]
  },
  {
   "cell_type": "code",
   "execution_count": 8,
   "id": "54cb03c8",
   "metadata": {},
   "outputs": [
    {
     "name": "stdout",
     "output_type": "stream",
     "text": [
      "cat\n"
     ]
    }
   ],
   "source": [
    "print(t[2])"
   ]
  },
  {
   "cell_type": "code",
   "execution_count": 15,
   "id": "80aff718",
   "metadata": {},
   "outputs": [],
   "source": [
    "a= (1,2,3,4)\n",
    "b = a"
   ]
  },
  {
   "cell_type": "code",
   "execution_count": 14,
   "id": "23106c8b",
   "metadata": {},
   "outputs": [
    {
     "data": {
      "text/plain": [
       "[1, 2, 3, 4]"
      ]
     },
     "execution_count": 14,
     "metadata": {},
     "output_type": "execute_result"
    }
   ],
   "source": [
    "b"
   ]
  },
  {
   "cell_type": "code",
   "execution_count": 16,
   "id": "614cb8de",
   "metadata": {},
   "outputs": [],
   "source": [
    "c = a + b"
   ]
  },
  {
   "cell_type": "code",
   "execution_count": 17,
   "id": "41d07624",
   "metadata": {},
   "outputs": [
    {
     "data": {
      "text/plain": [
       "(1, 2, 3, 4, 1, 2, 3, 4)"
      ]
     },
     "execution_count": 17,
     "metadata": {},
     "output_type": "execute_result"
    }
   ],
   "source": [
    "c"
   ]
  },
  {
   "cell_type": "code",
   "execution_count": 18,
   "id": "c27150b1",
   "metadata": {},
   "outputs": [],
   "source": [
    "\n",
    "\n",
    "a = ()\n",
    "b = (\"Apple\",)\n",
    "a = a + b"
   ]
  },
  {
   "cell_type": "code",
   "execution_count": null,
   "id": "a54de197",
   "metadata": {},
   "outputs": [],
   "source": []
  },
  {
   "cell_type": "code",
   "execution_count": 22,
   "id": "d024f64c",
   "metadata": {},
   "outputs": [
    {
     "name": "stdout",
     "output_type": "stream",
     "text": [
      "Enter the value n = 2\n",
      "Enter the value x = parbat\n",
      "Enter the value x = nepal\n",
      "('parbat', 'nepal')\n"
     ]
    }
   ],
   "source": [
    "## concadination in tuples\n",
    "\n",
    "\n",
    "t = ()\n",
    "n = int(input(\"Enter the value n = \"))\n",
    "for i in range(n):\n",
    "    x = input(\"Enter the value x = \")\n",
    "    t = t + (x, )\n",
    "print(t)"
   ]
  },
  {
   "cell_type": "code",
   "execution_count": 26,
   "id": "6272b140",
   "metadata": {},
   "outputs": [
    {
     "data": {
      "text/plain": [
       "('n', 'e', 'p', 'a', 'l')"
      ]
     },
     "execution_count": 26,
     "metadata": {},
     "output_type": "execute_result"
    }
   ],
   "source": [
    "tuple(x)"
   ]
  },
  {
   "cell_type": "code",
   "execution_count": null,
   "id": "ba2cf0f5",
   "metadata": {},
   "outputs": [],
   "source": []
  },
  {
   "cell_type": "code",
   "execution_count": null,
   "id": "39517a91",
   "metadata": {},
   "outputs": [],
   "source": []
  }
 ],
 "metadata": {
  "kernelspec": {
   "display_name": "Python 3 (ipykernel)",
   "language": "python",
   "name": "python3"
  },
  "language_info": {
   "codemirror_mode": {
    "name": "ipython",
    "version": 3
   },
   "file_extension": ".py",
   "mimetype": "text/x-python",
   "name": "python",
   "nbconvert_exporter": "python",
   "pygments_lexer": "ipython3",
   "version": "3.9.13"
  }
 },
 "nbformat": 4,
 "nbformat_minor": 5
}
