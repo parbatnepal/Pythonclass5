{
 "cells": [
  {
   "cell_type": "code",
   "execution_count": 1,
   "id": "823629ba",
   "metadata": {},
   "outputs": [],
   "source": [
    "# public members\n",
    "# protected members\n",
    "# private members"
   ]
  },
  {
   "cell_type": "code",
   "execution_count": 2,
   "id": "b41d29fd",
   "metadata": {},
   "outputs": [
    {
     "name": "stdout",
     "output_type": "stream",
     "text": [
      "Ram\n",
      "22\n",
      "Kathmandu\n"
     ]
    }
   ],
   "source": [
    "# public members\n",
    "class Info:\n",
    "    def __init__(self):\n",
    "        self.name = \"Ram\"\n",
    "        self.age = \"22\"\n",
    "        self.add = \"Kathmandu\"\n",
    "obj = Info()\n",
    "print(obj.name)\n",
    "print(obj.age)\n",
    "print(obj.add)"
   ]
  },
  {
   "cell_type": "code",
   "execution_count": 3,
   "id": "4db987dc",
   "metadata": {},
   "outputs": [
    {
     "name": "stdout",
     "output_type": "stream",
     "text": [
      "Ram\n",
      "22\n",
      "Kathmandu\n"
     ]
    }
   ],
   "source": [
    "# protected members\n",
    "# it can be used by child class which inherits the parent class\n",
    "class Info:\n",
    "    def __init__(self):\n",
    "        self._name = \"Ram\"\n",
    "        self._age = \"22\"\n",
    "        self._add = \"Kathmandu\"\n",
    "obj = Info()\n",
    "print(obj._name)\n",
    "print(obj._age)\n",
    "print(obj._add)"
   ]
  },
  {
   "cell_type": "code",
   "execution_count": 14,
   "id": "17ab3c45",
   "metadata": {},
   "outputs": [
    {
     "name": "stdout",
     "output_type": "stream",
     "text": [
      "Ram\n",
      "22\n",
      "Kathmandu\n"
     ]
    }
   ],
   "source": [
    "# private members\n",
    "# can only be used within the class\n",
    "class Info:\n",
    "    def __init__(self):\n",
    "        self.__name = \"Ram\"\n",
    "        self.__age = \"22\"\n",
    "        self.__add = \"Kathmandu\"\n",
    "obj = Info()\n",
    "print(obj._Info__name)\n",
    "print(obj._Info__age)\n",
    "print(obj._Info__add)"
   ]
  },
  {
   "cell_type": "code",
   "execution_count": 12,
   "id": "f55627ff",
   "metadata": {},
   "outputs": [
    {
     "name": "stdout",
     "output_type": "stream",
     "text": [
      "Enter name = parbat\n",
      "Enter age = 22\n",
      "Enter add = itahari\n",
      "Hello world I am parbat. I am from 22.\n",
      "Hello world I am parbat. I am from itahari. I am 22\n"
     ]
    }
   ],
   "source": [
    "class Data:\n",
    "    def __init__(self):\n",
    "        self.name = input(\"Enter name = \")\n",
    "        self._age = int(input(\"Enter age = \"))\n",
    "        self.__add = input(\"Enter add = \")\n",
    "    def data(self):\n",
    "        return f\"Hello world I am {self.name}. I am from {self.__add}. I am {self._age}\"\n",
    "class Info(Data):\n",
    "    def info(self):\n",
    "        return f\"Hello world I am {self.name}. I am from {self._age}.\"\n",
    "obj = Info()\n",
    "print(obj.info())\n",
    "print(obj.data())"
   ]
  },
  {
   "cell_type": "code",
   "execution_count": 13,
   "id": "81633b2e",
   "metadata": {},
   "outputs": [
    {
     "name": "stdout",
     "output_type": "stream",
     "text": [
      "Enter name = parbat\n",
      "Enter age = 22\n",
      "Enter add = itahari\n",
      "Hello world I am parbat. I am from itahari. I am 22\n",
      "None\n"
     ]
    }
   ],
   "source": [
    "class Data:\n",
    "    def __init__(self):\n",
    "        self.name = input(\"Enter name = \")\n",
    "        self._age = int(input(\"Enter age = \"))\n",
    "        self.__add = input(\"Enter add = \")\n",
    "    def data(self):\n",
    "        return f\"Hello world I am {self.name}. I am from {self.__add}. I am {self._age}\"\n",
    "class Info(Data):\n",
    "    def info(self):\n",
    "        print(Data.data(self))\n",
    "obj = Info()\n",
    "print(obj.info())"
   ]
  },
  {
   "cell_type": "code",
   "execution_count": null,
   "id": "6f04e2e0",
   "metadata": {},
   "outputs": [],
   "source": []
  }
 ],
 "metadata": {
  "kernelspec": {
   "display_name": "Python 3 (ipykernel)",
   "language": "python",
   "name": "python3"
  },
  "language_info": {
   "codemirror_mode": {
    "name": "ipython",
    "version": 3
   },
   "file_extension": ".py",
   "mimetype": "text/x-python",
   "name": "python",
   "nbconvert_exporter": "python",
   "pygments_lexer": "ipython3",
   "version": "3.9.13"
  }
 },
 "nbformat": 4,
 "nbformat_minor": 5
}
