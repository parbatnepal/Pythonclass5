{
 "cells": [
  {
   "cell_type": "code",
   "execution_count": 4,
   "id": "0907f2e0",
   "metadata": {},
   "outputs": [
    {
     "name": "stdout",
     "output_type": "stream",
     "text": [
      "Hello World\n"
     ]
    }
   ],
   "source": [
    "class Hello:   # class\n",
    "    @staticmethod\n",
    "    def hello(): # method\n",
    "        print(\"Hello World\")\n",
    "obj = Hello() #initialising class\n",
    "obj.hello() #calling method hello() from class \"Hello\" through obj"
   ]
  },
  {
   "cell_type": "code",
   "execution_count": 7,
   "id": "6f3a9c45",
   "metadata": {},
   "outputs": [
    {
     "name": "stdout",
     "output_type": "stream",
     "text": [
      "50\n"
     ]
    }
   ],
   "source": [
    "class cal:\n",
    "    @staticmethod\n",
    "    def area(l,b):\n",
    "        a = l*b\n",
    "        print(a)\n",
    "obj = cal()\n",
    "obj.area(10,5)"
   ]
  },
  {
   "cell_type": "code",
   "execution_count": 8,
   "id": "e2638f5f",
   "metadata": {},
   "outputs": [
    {
     "name": "stdout",
     "output_type": "stream",
     "text": [
      "50\n"
     ]
    }
   ],
   "source": [
    "class cal:\n",
    "    def area(self,l,b):\n",
    "        a = l*b\n",
    "        print(a)\n",
    "obj = cal()\n",
    "obj.area(10,5)"
   ]
  },
  {
   "cell_type": "code",
   "execution_count": 1,
   "id": "3fd0f898",
   "metadata": {},
   "outputs": [],
   "source": [
    "### __init__()"
   ]
  },
  {
   "cell_type": "code",
   "execution_count": 4,
   "id": "86eea7ed",
   "metadata": {},
   "outputs": [
    {
     "name": "stdout",
     "output_type": "stream",
     "text": [
      "50\n"
     ]
    }
   ],
   "source": [
    "class Cal:\n",
    "    def __init__(self,l,b):\n",
    "        self.l = l\n",
    "        self.b = b\n",
    "    def area(self):\n",
    "        a = self.l*self.b\n",
    "        print(a)\n",
    "obj = Cal(10,5)\n",
    "obj.area()"
   ]
  },
  {
   "cell_type": "code",
   "execution_count": 13,
   "id": "c3033432",
   "metadata": {},
   "outputs": [
    {
     "name": "stdout",
     "output_type": "stream",
     "text": [
      "50\n",
      "150\n",
      "10 5 3\n"
     ]
    }
   ],
   "source": [
    "class Cal:\n",
    "    def __init__(self,l,b,h):\n",
    "        self.l = l\n",
    "        self.b = b\n",
    "        self.h = h\n",
    "    def area(self):\n",
    "        a = self.l*self.b\n",
    "        print(a)\n",
    "    def volume(self):\n",
    "        v = self.l * self.b * self.h\n",
    "        print(v)\n",
    "obj = Cal(10,5,3)\n",
    "obj.area()\n",
    "obj.volume()\n",
    "print(obj.l,obj.b,obj.h)"
   ]
  },
  {
   "cell_type": "code",
   "execution_count": 19,
   "id": "fd1fdf1c",
   "metadata": {},
   "outputs": [
    {
     "name": "stdout",
     "output_type": "stream",
     "text": [
      "Enter name = Parbat\n",
      "Enter age = 22\n",
      "Enter address = itahari\n",
      "Parbat\n",
      "<class '__main__.Info'>\n",
      "Parbat\n"
     ]
    }
   ],
   "source": [
    "class Info:\n",
    "    def __init__(self):\n",
    "        self.name = input(\"Enter name = \")\n",
    "        self.age = int(input(\"Enter age = \"))\n",
    "        self.add = input(\"Enter address = \")\n",
    "    def __str__(self):\n",
    "        return self.name\n",
    "obj = Info()\n",
    "print(obj)\n",
    "print(type(obj))\n",
    "print(str(obj))"
   ]
  },
  {
   "cell_type": "code",
   "execution_count": 25,
   "id": "5e141d82",
   "metadata": {},
   "outputs": [
    {
     "name": "stdout",
     "output_type": "stream",
     "text": [
      "Enter name = parbat\n",
      "Enter age = 22\n",
      "Enter address = itahari\n",
      "Hello world i am parbat. I am from itahari. I am 22\n"
     ]
    }
   ],
   "source": [
    "class Info:\n",
    "    def __init__(self,name,age,add):\n",
    "        self.name = name\n",
    "        self.age = age\n",
    "        self.add = add\n",
    "    def info(self):\n",
    "        return f\"Hello world i am {self.name}. I am from {self.add}. I am {self.age}\"\n",
    "name = input(\"Enter name = \")\n",
    "age = int(input(\"Enter age = \"))\n",
    "add = input(\"Enter address = \")\n",
    "obj = Info(name,age,add)\n",
    "print(obj.info())"
   ]
  },
  {
   "cell_type": "code",
   "execution_count": 32,
   "id": "f7a08c81",
   "metadata": {},
   "outputs": [],
   "source": [
    "#class MyClass:\n",
    "#    def __init__(self,value):\n",
    "#        self.value = value\n",
    "#    def show(self):\n",
    "##        print(f\"Value is {self.value}\")\n",
    "#    @property\n",
    "#    def value(self):\n",
    "#        return self.value\n",
    "#obj = MyClass(1)"
   ]
  },
  {
   "cell_type": "code",
   "execution_count": 33,
   "id": "62f1e080",
   "metadata": {},
   "outputs": [],
   "source": [
    "## Inheritance"
   ]
  },
  {
   "cell_type": "code",
   "execution_count": 34,
   "id": "65e25645",
   "metadata": {},
   "outputs": [
    {
     "name": "stdout",
     "output_type": "stream",
     "text": [
      "Enter name = parbat\n",
      "Enter age = 22\n",
      "Enter add = itahari\n",
      "Hello world I am parbat. I am from itahari. I am 22\n"
     ]
    }
   ],
   "source": [
    "b"
   ]
  },
  {
   "cell_type": "code",
   "execution_count": 39,
   "id": "8e86c326",
   "metadata": {},
   "outputs": [
    {
     "name": "stdout",
     "output_type": "stream",
     "text": [
      "Enter name = parbat\n",
      "Enter age = 22\n",
      "Enter add = itahari\n",
      "Hello world I am parbat. I am from itahari. I am 22\n"
     ]
    }
   ],
   "source": [
    "class Data:\n",
    "    def __init__(self,add):\n",
    "        self.name = name\n",
    "        self.age = age\n",
    "        self.add = add\n",
    "        \n",
    "class Info(Data):\n",
    "    def __init__(self,name,age,add):\n",
    "        self.name = name\n",
    "        self.age = age\n",
    "        Data.__init__(self,add)  ### initiasing parent class from child class\n",
    "    def info(self):\n",
    "        return f\"Hello world I am {self.name}. I am from {self.add}. I am {self.age}\"\n",
    "name = input(\"Enter name = \")\n",
    "age = int(input(\"Enter age = \"))\n",
    "add = input(\"Enter add = \")\n",
    "obj = Info(name,age,add)\n",
    "print(obj.info())"
   ]
  },
  {
   "cell_type": "code",
   "execution_count": null,
   "id": "543fd293",
   "metadata": {},
   "outputs": [],
   "source": []
  }
 ],
 "metadata": {
  "kernelspec": {
   "display_name": "Python 3 (ipykernel)",
   "language": "python",
   "name": "python3"
  },
  "language_info": {
   "codemirror_mode": {
    "name": "ipython",
    "version": 3
   },
   "file_extension": ".py",
   "mimetype": "text/x-python",
   "name": "python",
   "nbconvert_exporter": "python",
   "pygments_lexer": "ipython3",
   "version": "3.9.13"
  }
 },
 "nbformat": 4,
 "nbformat_minor": 5
}
